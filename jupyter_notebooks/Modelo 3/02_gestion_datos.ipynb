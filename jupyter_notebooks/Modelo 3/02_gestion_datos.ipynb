{
 "cells": [
  {
   "cell_type": "code",
   "execution_count": null,
   "metadata": {},
   "outputs": [],
   "source": [
    "# Tratamiento de datos\n",
    "# -----------------------------------------------------------------------\n",
    "import numpy as np\n",
    "import pandas as pd\n",
    "\n",
    "import sys\n",
    "sys.path.append(\"../../\")\n",
    "import src.soporte_logistica_preprocesamiento as pre\n",
    "\n",
    "pd.set_option('display.float_format', '{:.2f}'.format)\n",
    "\n",
    "\n",
    "# Imputación de nulos usando métodos avanzados estadísticos\n",
    "# -----------------------------------------------------------------------\n",
    "from sklearn.impute import SimpleImputer\n",
    "from sklearn.experimental import enable_iterative_imputer\n",
    "from sklearn.impute import IterativeImputer\n",
    "from sklearn.impute import KNNImputer\n",
    "from sklearn.ensemble import RandomForestRegressor\n",
    "\n",
    "import warnings\n",
    "warnings.filterwarnings(\"ignore\")\n",
    "pd.set_option('display.max_columns',100)\n"
   ]
  },
  {
   "cell_type": "code",
   "execution_count": 2,
   "metadata": {},
   "outputs": [],
   "source": [
    "df = pd.read_pickle(\"../../datos/01_datos_merge.plk\")"
   ]
  },
  {
   "cell_type": "markdown",
   "metadata": {},
   "source": [
    "# Gestión de Datos\n",
    "- Vamos a eliminar columnas\n",
    "- Convertir a categóricas si no tienen nulos\n",
    "- Gestionar Nulos\n",
    "- Convertir a categóricas tras gestionar nulso"
   ]
  },
  {
   "cell_type": "markdown",
   "metadata": {},
   "source": [
    "# Eliminar Columnas\n",
    "\n",
    "- EmployeeID: No aporta informacón\n",
    "- EmployeeCount: Podemos eliminarla (solo un valor)\n",
    "- StandardHours: Podemos Eliminarla (solo un valor)\n",
    "- Over18 eliminamos al tener un solo valor\n",
    "\n",
    "- PerformanceRating: La quitamos porque es una distribución de datos bastante mala, en una escala del 0 al 5 solo tenemos datos de 3 y 4, y hay pocos de 4"
   ]
  },
  {
   "cell_type": "code",
   "execution_count": 3,
   "metadata": {},
   "outputs": [],
   "source": [
    "chao = [\"EmployeeID\"]\n",
    "df.drop(chao, axis=1, inplace=True)"
   ]
  },
  {
   "cell_type": "markdown",
   "metadata": {},
   "source": [
    "# Eliminar duplicados"
   ]
  },
  {
   "cell_type": "code",
   "execution_count": 4,
   "metadata": {},
   "outputs": [
    {
     "data": {
      "text/plain": [
       "(4410, 28)"
      ]
     },
     "execution_count": 4,
     "metadata": {},
     "output_type": "execute_result"
    }
   ],
   "source": [
    "df.shape"
   ]
  },
  {
   "cell_type": "code",
   "execution_count": 5,
   "metadata": {},
   "outputs": [
    {
     "data": {
      "text/plain": [
       "np.int64(2837)"
      ]
     },
     "execution_count": 5,
     "metadata": {},
     "output_type": "execute_result"
    }
   ],
   "source": [
    "df.duplicated().sum()"
   ]
  },
  {
   "cell_type": "code",
   "execution_count": 6,
   "metadata": {},
   "outputs": [],
   "source": [
    "df.drop_duplicates(inplace=True)"
   ]
  },
  {
   "cell_type": "code",
   "execution_count": 7,
   "metadata": {},
   "outputs": [
    {
     "data": {
      "text/plain": [
       "np.int64(0)"
      ]
     },
     "execution_count": 7,
     "metadata": {},
     "output_type": "execute_result"
    }
   ],
   "source": [
    "df.duplicated().sum()"
   ]
  },
  {
   "cell_type": "code",
   "execution_count": 8,
   "metadata": {},
   "outputs": [
    {
     "data": {
      "text/plain": [
       "(1573, 28)"
      ]
     },
     "execution_count": 8,
     "metadata": {},
     "output_type": "execute_result"
    }
   ],
   "source": [
    "df.shape"
   ]
  },
  {
   "cell_type": "code",
   "execution_count": 9,
   "metadata": {},
   "outputs": [],
   "source": [
    "cols_chao = [\"EmployeeCount\",\"StandardHours\",\"Over18\",\"PerformanceRating\"]\n",
    "df.drop(cols_chao, axis=1, inplace=True)"
   ]
  },
  {
   "cell_type": "markdown",
   "metadata": {},
   "source": [
    "# Volver Categoría\n",
    "### Sin agrupar:\n",
    "\n",
    "- Education: Es categoría de 5 opciones\n",
    "- JobLevel: Categoría de 5 opciones\n",
    "   - Executive or senior management\n",
    "   - Middle management\n",
    "   - First-level management\n",
    "   - Intermediate or experienced (senior staff)\n",
    "   - Entry-level\n",
    "- StockOptionLevel: Categoría de 4 opciones\n",
    "- TrainingTimesLastYear: Categoría de 7 opciones\n",
    "\n",
    "- JobInvolvement: Categoría de 4 opciones\n",
    "\n",
    "- PercentSalaryHike: Categoría de 15 opciones\n",
    "- DistanceFromHome: Es una categoría de 29 opciones"
   ]
  },
  {
   "cell_type": "markdown",
   "metadata": {},
   "source": [
    "### Education\n",
    "   - 1 'Below College'\n",
    "   - 2 'College'\n",
    "   - 3 'Bachelor'\n",
    "   - 4 'Master'\n",
    "   - 5 'Doctor'"
   ]
  },
  {
   "cell_type": "code",
   "execution_count": 10,
   "metadata": {},
   "outputs": [
    {
     "data": {
      "text/plain": [
       "array([2, 1, 4, 5, 3])"
      ]
     },
     "execution_count": 10,
     "metadata": {},
     "output_type": "execute_result"
    }
   ],
   "source": [
    "df[\"Education\"].unique()"
   ]
  },
  {
   "cell_type": "code",
   "execution_count": 11,
   "metadata": {},
   "outputs": [
    {
     "data": {
      "text/plain": [
       "['College', 'Below College', 'Master', 'Doctor', 'Bachelor']\n",
       "Categories (5, object): ['Bachelor', 'Below College', 'College', 'Doctor', 'Master']"
      ]
     },
     "execution_count": 11,
     "metadata": {},
     "output_type": "execute_result"
    }
   ],
   "source": [
    "dictio_education = {\n",
    "    1 : \"Below College\",\n",
    "    2 : \"College\",\n",
    "    3 : \"Bachelor\",\n",
    "    4 : \"Master\",\n",
    "    5 : \"Doctor\"\n",
    "}\n",
    "df[\"Education\"] = df[\"Education\"].map(dictio_education).astype(\"category\")\n",
    "df[\"Education\"].unique()"
   ]
  },
  {
   "cell_type": "markdown",
   "metadata": {},
   "source": [
    "### JobLevel\n",
    "   - Executive or senior management\n",
    "   - Middle management\n",
    "   - First-level management\n",
    "   - Intermediate or experienced (senior staff)\n",
    "   - Entry-level\n",
    "   \n",
    "Para saber que número pertenece a cuál, miraremos la media de sueldo"
   ]
  },
  {
   "cell_type": "code",
   "execution_count": 12,
   "metadata": {},
   "outputs": [
    {
     "data": {
      "text/plain": [
       "array([1, 4, 3, 2, 5])"
      ]
     },
     "execution_count": 12,
     "metadata": {},
     "output_type": "execute_result"
    }
   ],
   "source": [
    "df[\"JobLevel\"].unique()"
   ]
  },
  {
   "cell_type": "code",
   "execution_count": 13,
   "metadata": {},
   "outputs": [
    {
     "data": {
      "text/html": [
       "<div>\n",
       "<style scoped>\n",
       "    .dataframe tbody tr th:only-of-type {\n",
       "        vertical-align: middle;\n",
       "    }\n",
       "\n",
       "    .dataframe tbody tr th {\n",
       "        vertical-align: top;\n",
       "    }\n",
       "\n",
       "    .dataframe thead th {\n",
       "        text-align: right;\n",
       "    }\n",
       "</style>\n",
       "<table border=\"1\" class=\"dataframe\">\n",
       "  <thead>\n",
       "    <tr style=\"text-align: right;\">\n",
       "      <th></th>\n",
       "      <th>JobLevel</th>\n",
       "      <th>MonthlyIncome</th>\n",
       "    </tr>\n",
       "  </thead>\n",
       "  <tbody>\n",
       "    <tr>\n",
       "      <th>3</th>\n",
       "      <td>4</td>\n",
       "      <td>77634.50</td>\n",
       "    </tr>\n",
       "    <tr>\n",
       "      <th>4</th>\n",
       "      <td>5</td>\n",
       "      <td>65908.27</td>\n",
       "    </tr>\n",
       "    <tr>\n",
       "      <th>1</th>\n",
       "      <td>2</td>\n",
       "      <td>65726.22</td>\n",
       "    </tr>\n",
       "    <tr>\n",
       "      <th>2</th>\n",
       "      <td>3</td>\n",
       "      <td>63639.21</td>\n",
       "    </tr>\n",
       "    <tr>\n",
       "      <th>0</th>\n",
       "      <td>1</td>\n",
       "      <td>62264.21</td>\n",
       "    </tr>\n",
       "  </tbody>\n",
       "</table>\n",
       "</div>"
      ],
      "text/plain": [
       "   JobLevel  MonthlyIncome\n",
       "3         4       77634.50\n",
       "4         5       65908.27\n",
       "1         2       65726.22\n",
       "2         3       63639.21\n",
       "0         1       62264.21"
      ]
     },
     "execution_count": 13,
     "metadata": {},
     "output_type": "execute_result"
    }
   ],
   "source": [
    "salario_por_nivel = df.groupby(\"JobLevel\")[\"MonthlyIncome\"].mean().reset_index()\n",
    "salario_por_nivel.sort_values(by=\"MonthlyIncome\",ascending=False)"
   ]
  },
  {
   "cell_type": "markdown",
   "metadata": {},
   "source": [
    "Como no tiene sentido, vamos a hacerlo más simple"
   ]
  },
  {
   "cell_type": "code",
   "execution_count": 14,
   "metadata": {},
   "outputs": [
    {
     "data": {
      "text/plain": [
       "['Level 1', 'Level 4', 'Level 3', 'Level 2', 'Level 5']\n",
       "Categories (5, object): ['Level 1', 'Level 2', 'Level 3', 'Level 4', 'Level 5']"
      ]
     },
     "execution_count": 14,
     "metadata": {},
     "output_type": "execute_result"
    }
   ],
   "source": [
    "dictio_job_level = {\n",
    "    1 : \"Level 1\",\n",
    "    2 : \"Level 2\",\n",
    "    3 : \"Level 3\",\n",
    "    4 : \"Level 4\",\n",
    "    5 : \"Level 5\"\n",
    "}\n",
    "df[\"JobLevel\"] = df[\"JobLevel\"].map(dictio_job_level).astype(\"category\")\n",
    "df[\"JobLevel\"].unique()"
   ]
  },
  {
   "cell_type": "markdown",
   "metadata": {},
   "source": [
    "### StockOptionLevel\n",
    "- Miremos el Sueldo medio"
   ]
  },
  {
   "cell_type": "code",
   "execution_count": 15,
   "metadata": {},
   "outputs": [
    {
     "data": {
      "text/plain": [
       "array([0, 1, 3, 2])"
      ]
     },
     "execution_count": 15,
     "metadata": {},
     "output_type": "execute_result"
    }
   ],
   "source": [
    "df[\"StockOptionLevel\"].unique()"
   ]
  },
  {
   "cell_type": "code",
   "execution_count": 16,
   "metadata": {},
   "outputs": [
    {
     "data": {
      "text/html": [
       "<div>\n",
       "<style scoped>\n",
       "    .dataframe tbody tr th:only-of-type {\n",
       "        vertical-align: middle;\n",
       "    }\n",
       "\n",
       "    .dataframe tbody tr th {\n",
       "        vertical-align: top;\n",
       "    }\n",
       "\n",
       "    .dataframe thead th {\n",
       "        text-align: right;\n",
       "    }\n",
       "</style>\n",
       "<table border=\"1\" class=\"dataframe\">\n",
       "  <thead>\n",
       "    <tr style=\"text-align: right;\">\n",
       "      <th></th>\n",
       "      <th>StockOptionLevel</th>\n",
       "      <th>MonthlyIncome</th>\n",
       "    </tr>\n",
       "  </thead>\n",
       "  <tbody>\n",
       "    <tr>\n",
       "      <th>2</th>\n",
       "      <td>2</td>\n",
       "      <td>65980.06</td>\n",
       "    </tr>\n",
       "    <tr>\n",
       "      <th>1</th>\n",
       "      <td>1</td>\n",
       "      <td>65750.72</td>\n",
       "    </tr>\n",
       "    <tr>\n",
       "      <th>0</th>\n",
       "      <td>0</td>\n",
       "      <td>64168.74</td>\n",
       "    </tr>\n",
       "    <tr>\n",
       "      <th>3</th>\n",
       "      <td>3</td>\n",
       "      <td>63730.22</td>\n",
       "    </tr>\n",
       "  </tbody>\n",
       "</table>\n",
       "</div>"
      ],
      "text/plain": [
       "   StockOptionLevel  MonthlyIncome\n",
       "2                 2       65980.06\n",
       "1                 1       65750.72\n",
       "0                 0       64168.74\n",
       "3                 3       63730.22"
      ]
     },
     "execution_count": 16,
     "metadata": {},
     "output_type": "execute_result"
    }
   ],
   "source": [
    "salario_por_nivel = df.groupby(\"StockOptionLevel\")[\"MonthlyIncome\"].mean().reset_index()\n",
    "salario_por_nivel.sort_values(by=\"MonthlyIncome\",ascending=False)"
   ]
  },
  {
   "cell_type": "markdown",
   "metadata": {},
   "source": [
    "Como no tiene sentido, vamos a hacerlo más simple"
   ]
  },
  {
   "cell_type": "code",
   "execution_count": 17,
   "metadata": {},
   "outputs": [
    {
     "data": {
      "text/plain": [
       "['Level 0', 'Level 1', 'Level 3', 'Level 2']\n",
       "Categories (4, object): ['Level 0', 'Level 1', 'Level 2', 'Level 3']"
      ]
     },
     "execution_count": 17,
     "metadata": {},
     "output_type": "execute_result"
    }
   ],
   "source": [
    "dictio_stock_level = {\n",
    "    0 : \"Level 0\",\n",
    "    1 : \"Level 1\",\n",
    "    2 : \"Level 2\",\n",
    "    3 : \"Level 3\"\n",
    "}\n",
    "df[\"StockOptionLevel\"] = df[\"StockOptionLevel\"].map(dictio_stock_level).astype(\"category\")\n",
    "df[\"StockOptionLevel\"].unique()"
   ]
  },
  {
   "cell_type": "markdown",
   "metadata": {},
   "source": [
    "### TrainingTimesLastYear"
   ]
  },
  {
   "cell_type": "code",
   "execution_count": 18,
   "metadata": {},
   "outputs": [
    {
     "data": {
      "text/plain": [
       "array([6, 3, 2, 5, 4, 0, 1])"
      ]
     },
     "execution_count": 18,
     "metadata": {},
     "output_type": "execute_result"
    }
   ],
   "source": [
    "df[\"TrainingTimesLastYear\"].unique()"
   ]
  },
  {
   "cell_type": "code",
   "execution_count": 19,
   "metadata": {},
   "outputs": [],
   "source": [
    "df[\"TrainingTimesLastYear\"] = df[\"TrainingTimesLastYear\"].astype(\"int\").apply(lambda x: str(x)+\" Times\").astype(\"category\")"
   ]
  },
  {
   "cell_type": "code",
   "execution_count": 20,
   "metadata": {},
   "outputs": [
    {
     "data": {
      "text/plain": [
       "['6 Times', '3 Times', '2 Times', '5 Times', '4 Times', '0 Times', '1 Times']\n",
       "Categories (7, object): ['0 Times', '1 Times', '2 Times', '3 Times', '4 Times', '5 Times', '6 Times']"
      ]
     },
     "execution_count": 20,
     "metadata": {},
     "output_type": "execute_result"
    }
   ],
   "source": [
    "df[\"TrainingTimesLastYear\"].unique()"
   ]
  },
  {
   "cell_type": "markdown",
   "metadata": {},
   "source": [
    "### JobInvolvement\n",
    "- 1 'Low' \n",
    "- 2 'Medium' \n",
    "- 3 'High' \n",
    "- 4 'Very High'\n"
   ]
  },
  {
   "cell_type": "code",
   "execution_count": 21,
   "metadata": {},
   "outputs": [
    {
     "data": {
      "text/plain": [
       "array([3, 2, 1, 4])"
      ]
     },
     "execution_count": 21,
     "metadata": {},
     "output_type": "execute_result"
    }
   ],
   "source": [
    "df[\"JobInvolvement\"].unique()"
   ]
  },
  {
   "cell_type": "code",
   "execution_count": 22,
   "metadata": {},
   "outputs": [
    {
     "data": {
      "text/plain": [
       "['High', 'Medium', 'Low', 'Very High']\n",
       "Categories (4, object): ['High', 'Low', 'Medium', 'Very High']"
      ]
     },
     "execution_count": 22,
     "metadata": {},
     "output_type": "execute_result"
    }
   ],
   "source": [
    "dictio_job_inv = {\n",
    "    1 : \"Low\",\n",
    "    2 : \"Medium\",\n",
    "    3 : \"High\",\n",
    "    4 : \"Very High\"\n",
    "}\n",
    "df[\"JobInvolvement\"] = df[\"JobInvolvement\"].map(dictio_job_inv).astype(\"category\")\n",
    "df[\"JobInvolvement\"].unique()"
   ]
  },
  {
   "cell_type": "markdown",
   "metadata": {},
   "source": [
    "### PercentSalaryHike\n"
   ]
  },
  {
   "cell_type": "code",
   "execution_count": 23,
   "metadata": {},
   "outputs": [],
   "source": [
    "df[\"PercentSalaryHike\"] = df[\"PercentSalaryHike\"].apply(lambda x: str(x)+\" %\").astype(\"category\")"
   ]
  },
  {
   "cell_type": "code",
   "execution_count": 24,
   "metadata": {},
   "outputs": [
    {
     "data": {
      "text/plain": [
       "['11 %', '23 %', '15 %', '12 %', '13 %', ..., '16 %', '18 %', '19 %', '24 %', '25 %']\n",
       "Length: 15\n",
       "Categories (15, object): ['11 %', '12 %', '13 %', '14 %', ..., '22 %', '23 %', '24 %', '25 %']"
      ]
     },
     "execution_count": 24,
     "metadata": {},
     "output_type": "execute_result"
    }
   ],
   "source": [
    "df[\"PercentSalaryHike\"].unique()"
   ]
  },
  {
   "cell_type": "markdown",
   "metadata": {},
   "source": [
    "### DistanceFromHome"
   ]
  },
  {
   "cell_type": "code",
   "execution_count": 25,
   "metadata": {},
   "outputs": [
    {
     "data": {
      "text/plain": [
       "['6 km', '10 km', '17 km', '2 km', '8 km', ..., '21 km', '26 km', '27 km', '12 km', '23 km']\n",
       "Length: 29\n",
       "Categories (29, object): ['1 km', '10 km', '11 km', '12 km', ..., '6 km', '7 km', '8 km', '9 km']"
      ]
     },
     "execution_count": 25,
     "metadata": {},
     "output_type": "execute_result"
    }
   ],
   "source": [
    "df[\"DistanceFromHome\"] = df[\"DistanceFromHome\"].apply(lambda x: str(x)+\" km\").astype(\"category\")\n",
    "df[\"DistanceFromHome\"].unique()"
   ]
  },
  {
   "cell_type": "markdown",
   "metadata": {},
   "source": [
    "# Gestionar Nulos y Volver Categoría\n",
    "- NumCompaniesWorked: Categórica de 11 opciones (19 Nulos), con nulos no hacemos nada aún.\n",
    "- EnvironmentSatisfaction: Categoría de 5 opciones (25 nulos)\n",
    "- JobSatisfaction: Categoría de 5 opciones (20 nulos)\n",
    "- WorkLifeBalance: Categoría de 5 opciones (38 nulos)\n",
    "\n",
    "### Veamos las filas con nulos y su attrition:"
   ]
  },
  {
   "cell_type": "code",
   "execution_count": 26,
   "metadata": {},
   "outputs": [
    {
     "data": {
      "text/plain": [
       "Attrition\n",
       "No     82\n",
       "Yes    13\n",
       "Name: count, dtype: int64"
      ]
     },
     "execution_count": 26,
     "metadata": {},
     "output_type": "execute_result"
    }
   ],
   "source": [
    "cond1 = df[\"NumCompaniesWorked\"].isnull() == True\n",
    "cond2 = df[\"EnvironmentSatisfaction\"].isnull() == True\n",
    "cond3 = df[\"JobSatisfaction\"].isnull() == True\n",
    "cond4 = df[\"WorkLifeBalance\"].isnull() == True\n",
    "df[cond1 | cond2 | cond3 | cond4][\"Attrition\"].value_counts()"
   ]
  },
  {
   "cell_type": "markdown",
   "metadata": {},
   "source": [
    "### Que sabemos\n",
    "- 102 Filas con nulos\n",
    "- 88 No se han ido\n",
    "- 14 Si se han ido\n",
    "### Que hacemos\n",
    "- Tenemos un desbalanceo muy grande, hay muchos No y pocos Si\n",
    "- Eliminamos NO\n",
    "- Gestionamos los Sí"
   ]
  },
  {
   "cell_type": "code",
   "execution_count": 27,
   "metadata": {},
   "outputs": [],
   "source": [
    "cond1 = df[\"NumCompaniesWorked\"].isnull() == True\n",
    "cond2 = df[\"EnvironmentSatisfaction\"].isnull() == True\n",
    "cond3 = df[\"JobSatisfaction\"].isnull() == True\n",
    "cond4 = df[\"WorkLifeBalance\"].isnull() == True\n",
    "cond5 = df[\"Attrition\"] == \"No\"\n",
    "df.drop(df.loc[(cond1 | cond2 | cond3 | cond4 )& cond5].index,inplace=True)"
   ]
  },
  {
   "cell_type": "markdown",
   "metadata": {},
   "source": [
    "### Gestión de los Sí"
   ]
  },
  {
   "cell_type": "code",
   "execution_count": 28,
   "metadata": {},
   "outputs": [
    {
     "data": {
      "text/plain": [
       "Attrition\n",
       "Yes    13\n",
       "Name: count, dtype: int64"
      ]
     },
     "execution_count": 28,
     "metadata": {},
     "output_type": "execute_result"
    }
   ],
   "source": [
    "cond1 = df[\"NumCompaniesWorked\"].isnull() == True\n",
    "cond2 = df[\"EnvironmentSatisfaction\"].isnull() == True\n",
    "cond3 = df[\"JobSatisfaction\"].isnull() == True\n",
    "cond4 = df[\"WorkLifeBalance\"].isnull() == True\n",
    "df[cond1 | cond2 | cond3 | cond4][\"Attrition\"].value_counts()"
   ]
  },
  {
   "cell_type": "markdown",
   "metadata": {},
   "source": [
    "### Rellenar Nulos con Random Forest"
   ]
  },
  {
   "cell_type": "code",
   "execution_count": 29,
   "metadata": {},
   "outputs": [],
   "source": [
    "df.reset_index(drop=True,inplace=True)"
   ]
  },
  {
   "cell_type": "code",
   "execution_count": 30,
   "metadata": {},
   "outputs": [
    {
     "data": {
      "text/plain": [
       "Age                        0\n",
       "Attrition                  0\n",
       "BusinessTravel             0\n",
       "Department                 0\n",
       "DistanceFromHome           0\n",
       "Education                  0\n",
       "EducationField             0\n",
       "Gender                     0\n",
       "JobLevel                   0\n",
       "JobRole                    0\n",
       "MaritalStatus              0\n",
       "MonthlyIncome              0\n",
       "NumCompaniesWorked         4\n",
       "PercentSalaryHike          0\n",
       "StockOptionLevel           0\n",
       "TotalWorkingYears          8\n",
       "TrainingTimesLastYear      0\n",
       "YearsAtCompany             0\n",
       "YearsSinceLastPromotion    0\n",
       "YearsWithCurrManager       0\n",
       "EnvironmentSatisfaction    4\n",
       "JobSatisfaction            1\n",
       "WorkLifeBalance            4\n",
       "JobInvolvement             0\n",
       "dtype: int64"
      ]
     },
     "execution_count": 30,
     "metadata": {},
     "output_type": "execute_result"
    }
   ],
   "source": [
    "df.isnull().sum()"
   ]
  },
  {
   "cell_type": "code",
   "execution_count": 31,
   "metadata": {},
   "outputs": [
    {
     "data": {
      "text/plain": [
       "Age                        0\n",
       "Attrition                  0\n",
       "BusinessTravel             0\n",
       "Department                 0\n",
       "DistanceFromHome           0\n",
       "Education                  0\n",
       "EducationField             0\n",
       "Gender                     0\n",
       "JobLevel                   0\n",
       "JobRole                    0\n",
       "MaritalStatus              0\n",
       "MonthlyIncome              0\n",
       "NumCompaniesWorked         0\n",
       "PercentSalaryHike          0\n",
       "StockOptionLevel           0\n",
       "TotalWorkingYears          0\n",
       "TrainingTimesLastYear      0\n",
       "YearsAtCompany             0\n",
       "YearsSinceLastPromotion    0\n",
       "YearsWithCurrManager       0\n",
       "EnvironmentSatisfaction    0\n",
       "JobSatisfaction            0\n",
       "WorkLifeBalance            0\n",
       "JobInvolvement             0\n",
       "dtype: int64"
      ]
     },
     "execution_count": 31,
     "metadata": {},
     "output_type": "execute_result"
    }
   ],
   "source": [
    "df_num = df.select_dtypes(include=np.number)\n",
    "\n",
    "# Random Forest\n",
    "iterative_imputer = IterativeImputer(\n",
    "    estimator=RandomForestRegressor(random_state=42),\n",
    "    random_state=42\n",
    ")\n",
    "\n",
    "df_num_imputado = iterative_imputer.fit_transform(df_num)\n",
    "df_num_sin_nulos = pd.DataFrame(df_num_imputado, columns=df_num.columns)\n",
    "df[df_num.columns] = df_num_sin_nulos\n",
    "df.isnull().sum()\n"
   ]
  },
  {
   "cell_type": "markdown",
   "metadata": {},
   "source": [
    "### Categorizar\n",
    "- NumCompaniesWorked: Categórica de 11 opciones (19 Nulos), con nulos no hacemos nada aún.\n",
    "- EnvironmentSatisfaction: Categoría de 5 opciones (25 nulos)\n",
    "- JobSatisfaction: Categoría de 5 opciones (20 nulos)\n",
    "- WorkLifeBalance: Categoría de 5 opciones (38 nulos)"
   ]
  },
  {
   "cell_type": "code",
   "execution_count": 32,
   "metadata": {},
   "outputs": [
    {
     "data": {
      "text/plain": [
       "NumCompaniesWorked\n",
       "1.00    527\n",
       "0.00    200\n",
       "3.00    159\n",
       "2.00    147\n",
       "4.00    141\n",
       "7.00     77\n",
       "6.00     72\n",
       "5.00     64\n",
       "9.00     52\n",
       "8.00     49\n",
       "4.60      1\n",
       "4.16      1\n",
       "4.75      1\n",
       "Name: count, dtype: int64"
      ]
     },
     "execution_count": 32,
     "metadata": {},
     "output_type": "execute_result"
    }
   ],
   "source": [
    "df[\"NumCompaniesWorked\"].value_counts()"
   ]
  },
  {
   "cell_type": "markdown",
   "metadata": {},
   "source": [
    "### Corregir\n",
    "Debemos poner los que puso Random Forest en decimal, en enteros"
   ]
  },
  {
   "cell_type": "code",
   "execution_count": 33,
   "metadata": {},
   "outputs": [],
   "source": [
    "df.loc[df[\"NumCompaniesWorked\"].between(4.5,5.49,\"both\"),\"NumCompaniesWorked\"] = 5\n",
    "df.loc[df[\"NumCompaniesWorked\"].between(3.5,4.49,\"both\"),\"NumCompaniesWorked\"] = 4\n",
    "df.loc[df[\"NumCompaniesWorked\"].between(0.5,1.49,\"both\"),\"NumCompaniesWorked\"] = 1"
   ]
  },
  {
   "cell_type": "markdown",
   "metadata": {},
   "source": [
    "### Convertir en categoría"
   ]
  },
  {
   "cell_type": "code",
   "execution_count": 34,
   "metadata": {},
   "outputs": [
    {
     "data": {
      "text/plain": [
       "['1 companies', 'None', '3 companies', '4 companies', '2 companies', '7 companies', '9 companies', '5 companies', '6 companies', '8 companies']\n",
       "Categories (10, object): ['1 companies', '2 companies', '3 companies', '4 companies', ..., '7 companies', '8 companies', '9 companies', 'None']"
      ]
     },
     "execution_count": 34,
     "metadata": {},
     "output_type": "execute_result"
    }
   ],
   "source": [
    "df[\"NumCompaniesWorked\"] = df[\"NumCompaniesWorked\"].astype(\"int\")\n",
    "df[\"NumCompaniesWorked\"] = df[\"NumCompaniesWorked\"].apply(lambda x: str(x)+\" companies\")\n",
    "df.loc[df[\"NumCompaniesWorked\"] == \"0 companies\",\"NumCompaniesWorked\"] = \"None\"\n",
    "df[\"NumCompaniesWorked\"] = df[\"NumCompaniesWorked\"].astype(\"category\")\n",
    "df[\"NumCompaniesWorked\"].unique()"
   ]
  },
  {
   "cell_type": "markdown",
   "metadata": {},
   "source": [
    "### EnvironmentSatisfaction\n"
   ]
  },
  {
   "cell_type": "code",
   "execution_count": 35,
   "metadata": {},
   "outputs": [
    {
     "data": {
      "text/plain": [
       "EnvironmentSatisfaction\n",
       "3.00    460\n",
       "4.00    450\n",
       "2.00    291\n",
       "1.00    286\n",
       "2.23      1\n",
       "3.71      1\n",
       "1.55      1\n",
       "1.46      1\n",
       "Name: count, dtype: int64"
      ]
     },
     "execution_count": 35,
     "metadata": {},
     "output_type": "execute_result"
    }
   ],
   "source": [
    "df[\"EnvironmentSatisfaction\"].value_counts()"
   ]
  },
  {
   "cell_type": "code",
   "execution_count": 36,
   "metadata": {},
   "outputs": [
    {
     "data": {
      "text/plain": [
       "EnvironmentSatisfaction\n",
       "3.00    460\n",
       "4.00    451\n",
       "2.00    293\n",
       "1.00    287\n",
       "Name: count, dtype: int64"
      ]
     },
     "execution_count": 36,
     "metadata": {},
     "output_type": "execute_result"
    }
   ],
   "source": [
    "df.loc[df[\"EnvironmentSatisfaction\"].between(0.5,1.49,\"both\"),\"EnvironmentSatisfaction\"] = 1\n",
    "df.loc[df[\"EnvironmentSatisfaction\"].between(1.5,2.49,\"both\"),\"EnvironmentSatisfaction\"] = 2\n",
    "df.loc[df[\"EnvironmentSatisfaction\"].between(3.5,4.49,\"both\"),\"EnvironmentSatisfaction\"] = 4\n",
    "df[\"EnvironmentSatisfaction\"].value_counts()"
   ]
  },
  {
   "cell_type": "code",
   "execution_count": 37,
   "metadata": {},
   "outputs": [
    {
     "data": {
      "text/plain": [
       "['High', 'Medium', 'Very High', 'Low']\n",
       "Categories (4, object): ['High', 'Low', 'Medium', 'Very High']"
      ]
     },
     "execution_count": 37,
     "metadata": {},
     "output_type": "execute_result"
    }
   ],
   "source": [
    "dictio_satisf = {\n",
    "    1 :'Low',\n",
    "    2 : 'Medium', \n",
    "    3 : 'High', \n",
    "    4 : 'Very High'\n",
    "}\n",
    "\n",
    "df[\"EnvironmentSatisfaction\"] = df[\"EnvironmentSatisfaction\"].map(dictio_satisf).astype(\"category\")\n",
    "df[\"EnvironmentSatisfaction\"].unique()\n"
   ]
  },
  {
   "cell_type": "markdown",
   "metadata": {},
   "source": [
    "### JobSatisfaction\n"
   ]
  },
  {
   "cell_type": "code",
   "execution_count": 38,
   "metadata": {},
   "outputs": [
    {
     "data": {
      "text/plain": [
       "JobSatisfaction\n",
       "4.00    464\n",
       "3.00    450\n",
       "1.00    292\n",
       "2.00    284\n",
       "1.57      1\n",
       "Name: count, dtype: int64"
      ]
     },
     "execution_count": 38,
     "metadata": {},
     "output_type": "execute_result"
    }
   ],
   "source": [
    "df[\"JobSatisfaction\"].value_counts()"
   ]
  },
  {
   "cell_type": "code",
   "execution_count": 39,
   "metadata": {},
   "outputs": [
    {
     "data": {
      "text/plain": [
       "['Very High', 'Medium', 'Low', 'High']\n",
       "Categories (4, object): ['High', 'Low', 'Medium', 'Very High']"
      ]
     },
     "execution_count": 39,
     "metadata": {},
     "output_type": "execute_result"
    }
   ],
   "source": [
    "df.loc[df[\"JobSatisfaction\"].between(0.5,1.99,\"both\"),\"JobSatisfaction\"] = 1\n",
    "df[\"JobSatisfaction\"] = df[\"JobSatisfaction\"].map(dictio_satisf).astype(\"category\")\n",
    "df[\"JobSatisfaction\"].unique()"
   ]
  },
  {
   "cell_type": "markdown",
   "metadata": {},
   "source": [
    "### WorkLifeBalance"
   ]
  },
  {
   "cell_type": "code",
   "execution_count": 40,
   "metadata": {},
   "outputs": [
    {
     "data": {
      "text/plain": [
       "WorkLifeBalance\n",
       "3.00    904\n",
       "2.00    347\n",
       "4.00    154\n",
       "1.00     82\n",
       "2.89      1\n",
       "2.17      1\n",
       "2.25      1\n",
       "2.16      1\n",
       "Name: count, dtype: int64"
      ]
     },
     "execution_count": 40,
     "metadata": {},
     "output_type": "execute_result"
    }
   ],
   "source": [
    "df[\"WorkLifeBalance\"].value_counts()"
   ]
  },
  {
   "cell_type": "code",
   "execution_count": 41,
   "metadata": {},
   "outputs": [
    {
     "data": {
      "text/plain": [
       "['Medium', 'Very High', 'Low', 'High']\n",
       "Categories (4, object): ['High', 'Low', 'Medium', 'Very High']"
      ]
     },
     "execution_count": 41,
     "metadata": {},
     "output_type": "execute_result"
    }
   ],
   "source": [
    "df.loc[df[\"WorkLifeBalance\"].between(1.5,2.49,\"both\"),\"WorkLifeBalance\"] = 2\n",
    "df.loc[df[\"WorkLifeBalance\"].between(2.5,3.49,\"both\"),\"WorkLifeBalance\"] = 3\n",
    "df[\"WorkLifeBalance\"] = df[\"WorkLifeBalance\"].map(dictio_satisf).astype(\"category\")\n",
    "df[\"WorkLifeBalance\"].unique()"
   ]
  },
  {
   "cell_type": "code",
   "execution_count": 42,
   "metadata": {},
   "outputs": [
    {
     "data": {
      "text/html": [
       "<div>\n",
       "<style scoped>\n",
       "    .dataframe tbody tr th:only-of-type {\n",
       "        vertical-align: middle;\n",
       "    }\n",
       "\n",
       "    .dataframe tbody tr th {\n",
       "        vertical-align: top;\n",
       "    }\n",
       "\n",
       "    .dataframe thead th {\n",
       "        text-align: right;\n",
       "    }\n",
       "</style>\n",
       "<table border=\"1\" class=\"dataframe\">\n",
       "  <thead>\n",
       "    <tr style=\"text-align: right;\">\n",
       "      <th></th>\n",
       "      <th>Age</th>\n",
       "      <th>Attrition</th>\n",
       "      <th>BusinessTravel</th>\n",
       "      <th>Department</th>\n",
       "      <th>DistanceFromHome</th>\n",
       "      <th>Education</th>\n",
       "      <th>EducationField</th>\n",
       "      <th>Gender</th>\n",
       "      <th>JobLevel</th>\n",
       "      <th>JobRole</th>\n",
       "      <th>MaritalStatus</th>\n",
       "      <th>MonthlyIncome</th>\n",
       "      <th>NumCompaniesWorked</th>\n",
       "      <th>PercentSalaryHike</th>\n",
       "      <th>StockOptionLevel</th>\n",
       "      <th>TotalWorkingYears</th>\n",
       "      <th>TrainingTimesLastYear</th>\n",
       "      <th>YearsAtCompany</th>\n",
       "      <th>YearsSinceLastPromotion</th>\n",
       "      <th>YearsWithCurrManager</th>\n",
       "      <th>EnvironmentSatisfaction</th>\n",
       "      <th>JobSatisfaction</th>\n",
       "      <th>WorkLifeBalance</th>\n",
       "      <th>JobInvolvement</th>\n",
       "    </tr>\n",
       "  </thead>\n",
       "  <tbody>\n",
       "    <tr>\n",
       "      <th>0</th>\n",
       "      <td>51.00</td>\n",
       "      <td>No</td>\n",
       "      <td>Travel_Rarely</td>\n",
       "      <td>Sales</td>\n",
       "      <td>6 km</td>\n",
       "      <td>College</td>\n",
       "      <td>Life Sciences</td>\n",
       "      <td>Female</td>\n",
       "      <td>Level 1</td>\n",
       "      <td>Healthcare Representative</td>\n",
       "      <td>Married</td>\n",
       "      <td>131160.00</td>\n",
       "      <td>1 companies</td>\n",
       "      <td>11 %</td>\n",
       "      <td>Level 0</td>\n",
       "      <td>1.00</td>\n",
       "      <td>6 Times</td>\n",
       "      <td>1.00</td>\n",
       "      <td>0.00</td>\n",
       "      <td>0.00</td>\n",
       "      <td>High</td>\n",
       "      <td>Very High</td>\n",
       "      <td>Medium</td>\n",
       "      <td>High</td>\n",
       "    </tr>\n",
       "    <tr>\n",
       "      <th>1</th>\n",
       "      <td>31.00</td>\n",
       "      <td>Yes</td>\n",
       "      <td>Travel_Frequently</td>\n",
       "      <td>Research &amp; Development</td>\n",
       "      <td>10 km</td>\n",
       "      <td>Below College</td>\n",
       "      <td>Life Sciences</td>\n",
       "      <td>Female</td>\n",
       "      <td>Level 1</td>\n",
       "      <td>Research Scientist</td>\n",
       "      <td>Single</td>\n",
       "      <td>41890.00</td>\n",
       "      <td>None</td>\n",
       "      <td>23 %</td>\n",
       "      <td>Level 1</td>\n",
       "      <td>6.00</td>\n",
       "      <td>3 Times</td>\n",
       "      <td>5.00</td>\n",
       "      <td>1.00</td>\n",
       "      <td>4.00</td>\n",
       "      <td>High</td>\n",
       "      <td>Medium</td>\n",
       "      <td>Very High</td>\n",
       "      <td>Medium</td>\n",
       "    </tr>\n",
       "    <tr>\n",
       "      <th>2</th>\n",
       "      <td>32.00</td>\n",
       "      <td>No</td>\n",
       "      <td>Travel_Frequently</td>\n",
       "      <td>Research &amp; Development</td>\n",
       "      <td>17 km</td>\n",
       "      <td>Master</td>\n",
       "      <td>Other</td>\n",
       "      <td>Male</td>\n",
       "      <td>Level 4</td>\n",
       "      <td>Sales Executive</td>\n",
       "      <td>Married</td>\n",
       "      <td>193280.00</td>\n",
       "      <td>1 companies</td>\n",
       "      <td>15 %</td>\n",
       "      <td>Level 3</td>\n",
       "      <td>5.00</td>\n",
       "      <td>2 Times</td>\n",
       "      <td>5.00</td>\n",
       "      <td>0.00</td>\n",
       "      <td>3.00</td>\n",
       "      <td>Medium</td>\n",
       "      <td>Medium</td>\n",
       "      <td>Low</td>\n",
       "      <td>High</td>\n",
       "    </tr>\n",
       "    <tr>\n",
       "      <th>3</th>\n",
       "      <td>38.00</td>\n",
       "      <td>No</td>\n",
       "      <td>Non-Travel</td>\n",
       "      <td>Research &amp; Development</td>\n",
       "      <td>2 km</td>\n",
       "      <td>Doctor</td>\n",
       "      <td>Life Sciences</td>\n",
       "      <td>Male</td>\n",
       "      <td>Level 3</td>\n",
       "      <td>Human Resources</td>\n",
       "      <td>Married</td>\n",
       "      <td>83210.00</td>\n",
       "      <td>3 companies</td>\n",
       "      <td>11 %</td>\n",
       "      <td>Level 3</td>\n",
       "      <td>13.00</td>\n",
       "      <td>5 Times</td>\n",
       "      <td>8.00</td>\n",
       "      <td>7.00</td>\n",
       "      <td>5.00</td>\n",
       "      <td>Very High</td>\n",
       "      <td>Very High</td>\n",
       "      <td>High</td>\n",
       "      <td>Medium</td>\n",
       "    </tr>\n",
       "    <tr>\n",
       "      <th>4</th>\n",
       "      <td>32.00</td>\n",
       "      <td>No</td>\n",
       "      <td>Travel_Rarely</td>\n",
       "      <td>Research &amp; Development</td>\n",
       "      <td>10 km</td>\n",
       "      <td>Below College</td>\n",
       "      <td>Medical</td>\n",
       "      <td>Male</td>\n",
       "      <td>Level 1</td>\n",
       "      <td>Sales Executive</td>\n",
       "      <td>Single</td>\n",
       "      <td>23420.00</td>\n",
       "      <td>4 companies</td>\n",
       "      <td>12 %</td>\n",
       "      <td>Level 2</td>\n",
       "      <td>9.00</td>\n",
       "      <td>2 Times</td>\n",
       "      <td>6.00</td>\n",
       "      <td>0.00</td>\n",
       "      <td>4.00</td>\n",
       "      <td>Very High</td>\n",
       "      <td>Low</td>\n",
       "      <td>High</td>\n",
       "      <td>High</td>\n",
       "    </tr>\n",
       "    <tr>\n",
       "      <th>...</th>\n",
       "      <td>...</td>\n",
       "      <td>...</td>\n",
       "      <td>...</td>\n",
       "      <td>...</td>\n",
       "      <td>...</td>\n",
       "      <td>...</td>\n",
       "      <td>...</td>\n",
       "      <td>...</td>\n",
       "      <td>...</td>\n",
       "      <td>...</td>\n",
       "      <td>...</td>\n",
       "      <td>...</td>\n",
       "      <td>...</td>\n",
       "      <td>...</td>\n",
       "      <td>...</td>\n",
       "      <td>...</td>\n",
       "      <td>...</td>\n",
       "      <td>...</td>\n",
       "      <td>...</td>\n",
       "      <td>...</td>\n",
       "      <td>...</td>\n",
       "      <td>...</td>\n",
       "      <td>...</td>\n",
       "      <td>...</td>\n",
       "    </tr>\n",
       "    <tr>\n",
       "      <th>1486</th>\n",
       "      <td>42.00</td>\n",
       "      <td>No</td>\n",
       "      <td>Travel_Rarely</td>\n",
       "      <td>Research &amp; Development</td>\n",
       "      <td>23 km</td>\n",
       "      <td>Master</td>\n",
       "      <td>Other</td>\n",
       "      <td>Male</td>\n",
       "      <td>Level 1</td>\n",
       "      <td>Research Scientist</td>\n",
       "      <td>Married</td>\n",
       "      <td>23730.00</td>\n",
       "      <td>6 companies</td>\n",
       "      <td>14 %</td>\n",
       "      <td>Level 1</td>\n",
       "      <td>21.00</td>\n",
       "      <td>3 Times</td>\n",
       "      <td>1.00</td>\n",
       "      <td>0.00</td>\n",
       "      <td>0.00</td>\n",
       "      <td>Very High</td>\n",
       "      <td>High</td>\n",
       "      <td>Very High</td>\n",
       "      <td>Very High</td>\n",
       "    </tr>\n",
       "    <tr>\n",
       "      <th>1487</th>\n",
       "      <td>50.00</td>\n",
       "      <td>No</td>\n",
       "      <td>Travel_Frequently</td>\n",
       "      <td>Research &amp; Development</td>\n",
       "      <td>25 km</td>\n",
       "      <td>Master</td>\n",
       "      <td>Life Sciences</td>\n",
       "      <td>Female</td>\n",
       "      <td>Level 2</td>\n",
       "      <td>Healthcare Representative</td>\n",
       "      <td>Married</td>\n",
       "      <td>32020.00</td>\n",
       "      <td>2 companies</td>\n",
       "      <td>24 %</td>\n",
       "      <td>Level 1</td>\n",
       "      <td>32.00</td>\n",
       "      <td>2 Times</td>\n",
       "      <td>2.00</td>\n",
       "      <td>2.00</td>\n",
       "      <td>2.00</td>\n",
       "      <td>Very High</td>\n",
       "      <td>Low</td>\n",
       "      <td>High</td>\n",
       "      <td>High</td>\n",
       "    </tr>\n",
       "    <tr>\n",
       "      <th>1488</th>\n",
       "      <td>45.00</td>\n",
       "      <td>No</td>\n",
       "      <td>Travel_Frequently</td>\n",
       "      <td>Research &amp; Development</td>\n",
       "      <td>19 km</td>\n",
       "      <td>Bachelor</td>\n",
       "      <td>Medical</td>\n",
       "      <td>Male</td>\n",
       "      <td>Level 3</td>\n",
       "      <td>Laboratory Technician</td>\n",
       "      <td>Single</td>\n",
       "      <td>36810.00</td>\n",
       "      <td>3 companies</td>\n",
       "      <td>17 %</td>\n",
       "      <td>Level 1</td>\n",
       "      <td>22.00</td>\n",
       "      <td>2 Times</td>\n",
       "      <td>0.00</td>\n",
       "      <td>0.00</td>\n",
       "      <td>0.00</td>\n",
       "      <td>Medium</td>\n",
       "      <td>Medium</td>\n",
       "      <td>High</td>\n",
       "      <td>High</td>\n",
       "    </tr>\n",
       "    <tr>\n",
       "      <th>1489</th>\n",
       "      <td>28.00</td>\n",
       "      <td>Yes</td>\n",
       "      <td>Travel_Rarely</td>\n",
       "      <td>Human Resources</td>\n",
       "      <td>1 km</td>\n",
       "      <td>Bachelor</td>\n",
       "      <td>Medical</td>\n",
       "      <td>Female</td>\n",
       "      <td>Level 2</td>\n",
       "      <td>Laboratory Technician</td>\n",
       "      <td>Married</td>\n",
       "      <td>24130.00</td>\n",
       "      <td>1 companies</td>\n",
       "      <td>16 %</td>\n",
       "      <td>Level 1</td>\n",
       "      <td>1.00</td>\n",
       "      <td>2 Times</td>\n",
       "      <td>1.00</td>\n",
       "      <td>0.00</td>\n",
       "      <td>0.00</td>\n",
       "      <td>High</td>\n",
       "      <td>Medium</td>\n",
       "      <td>High</td>\n",
       "      <td>High</td>\n",
       "    </tr>\n",
       "    <tr>\n",
       "      <th>1490</th>\n",
       "      <td>35.00</td>\n",
       "      <td>Yes</td>\n",
       "      <td>Travel_Rarely</td>\n",
       "      <td>Research &amp; Development</td>\n",
       "      <td>9 km</td>\n",
       "      <td>Bachelor</td>\n",
       "      <td>Life Sciences</td>\n",
       "      <td>Male</td>\n",
       "      <td>Level 2</td>\n",
       "      <td>Manager</td>\n",
       "      <td>Divorced</td>\n",
       "      <td>173990.00</td>\n",
       "      <td>6 companies</td>\n",
       "      <td>12 %</td>\n",
       "      <td>Level 0</td>\n",
       "      <td>7.00</td>\n",
       "      <td>3 Times</td>\n",
       "      <td>2.00</td>\n",
       "      <td>2.00</td>\n",
       "      <td>2.00</td>\n",
       "      <td>Low</td>\n",
       "      <td>Very High</td>\n",
       "      <td>Medium</td>\n",
       "      <td>Low</td>\n",
       "    </tr>\n",
       "  </tbody>\n",
       "</table>\n",
       "<p>1491 rows × 24 columns</p>\n",
       "</div>"
      ],
      "text/plain": [
       "       Age Attrition     BusinessTravel              Department  \\\n",
       "0    51.00        No      Travel_Rarely                   Sales   \n",
       "1    31.00       Yes  Travel_Frequently  Research & Development   \n",
       "2    32.00        No  Travel_Frequently  Research & Development   \n",
       "3    38.00        No         Non-Travel  Research & Development   \n",
       "4    32.00        No      Travel_Rarely  Research & Development   \n",
       "...    ...       ...                ...                     ...   \n",
       "1486 42.00        No      Travel_Rarely  Research & Development   \n",
       "1487 50.00        No  Travel_Frequently  Research & Development   \n",
       "1488 45.00        No  Travel_Frequently  Research & Development   \n",
       "1489 28.00       Yes      Travel_Rarely         Human Resources   \n",
       "1490 35.00       Yes      Travel_Rarely  Research & Development   \n",
       "\n",
       "     DistanceFromHome      Education EducationField  Gender JobLevel  \\\n",
       "0                6 km        College  Life Sciences  Female  Level 1   \n",
       "1               10 km  Below College  Life Sciences  Female  Level 1   \n",
       "2               17 km         Master          Other    Male  Level 4   \n",
       "3                2 km         Doctor  Life Sciences    Male  Level 3   \n",
       "4               10 km  Below College        Medical    Male  Level 1   \n",
       "...               ...            ...            ...     ...      ...   \n",
       "1486            23 km         Master          Other    Male  Level 1   \n",
       "1487            25 km         Master  Life Sciences  Female  Level 2   \n",
       "1488            19 km       Bachelor        Medical    Male  Level 3   \n",
       "1489             1 km       Bachelor        Medical  Female  Level 2   \n",
       "1490             9 km       Bachelor  Life Sciences    Male  Level 2   \n",
       "\n",
       "                        JobRole MaritalStatus  MonthlyIncome  \\\n",
       "0     Healthcare Representative       Married      131160.00   \n",
       "1            Research Scientist        Single       41890.00   \n",
       "2               Sales Executive       Married      193280.00   \n",
       "3               Human Resources       Married       83210.00   \n",
       "4               Sales Executive        Single       23420.00   \n",
       "...                         ...           ...            ...   \n",
       "1486         Research Scientist       Married       23730.00   \n",
       "1487  Healthcare Representative       Married       32020.00   \n",
       "1488      Laboratory Technician        Single       36810.00   \n",
       "1489      Laboratory Technician       Married       24130.00   \n",
       "1490                    Manager      Divorced      173990.00   \n",
       "\n",
       "     NumCompaniesWorked PercentSalaryHike StockOptionLevel  TotalWorkingYears  \\\n",
       "0           1 companies              11 %          Level 0               1.00   \n",
       "1                  None              23 %          Level 1               6.00   \n",
       "2           1 companies              15 %          Level 3               5.00   \n",
       "3           3 companies              11 %          Level 3              13.00   \n",
       "4           4 companies              12 %          Level 2               9.00   \n",
       "...                 ...               ...              ...                ...   \n",
       "1486        6 companies              14 %          Level 1              21.00   \n",
       "1487        2 companies              24 %          Level 1              32.00   \n",
       "1488        3 companies              17 %          Level 1              22.00   \n",
       "1489        1 companies              16 %          Level 1               1.00   \n",
       "1490        6 companies              12 %          Level 0               7.00   \n",
       "\n",
       "     TrainingTimesLastYear  YearsAtCompany  YearsSinceLastPromotion  \\\n",
       "0                  6 Times            1.00                     0.00   \n",
       "1                  3 Times            5.00                     1.00   \n",
       "2                  2 Times            5.00                     0.00   \n",
       "3                  5 Times            8.00                     7.00   \n",
       "4                  2 Times            6.00                     0.00   \n",
       "...                    ...             ...                      ...   \n",
       "1486               3 Times            1.00                     0.00   \n",
       "1487               2 Times            2.00                     2.00   \n",
       "1488               2 Times            0.00                     0.00   \n",
       "1489               2 Times            1.00                     0.00   \n",
       "1490               3 Times            2.00                     2.00   \n",
       "\n",
       "      YearsWithCurrManager EnvironmentSatisfaction JobSatisfaction  \\\n",
       "0                     0.00                    High       Very High   \n",
       "1                     4.00                    High          Medium   \n",
       "2                     3.00                  Medium          Medium   \n",
       "3                     5.00               Very High       Very High   \n",
       "4                     4.00               Very High             Low   \n",
       "...                    ...                     ...             ...   \n",
       "1486                  0.00               Very High            High   \n",
       "1487                  2.00               Very High             Low   \n",
       "1488                  0.00                  Medium          Medium   \n",
       "1489                  0.00                    High          Medium   \n",
       "1490                  2.00                     Low       Very High   \n",
       "\n",
       "     WorkLifeBalance JobInvolvement  \n",
       "0             Medium           High  \n",
       "1          Very High         Medium  \n",
       "2                Low           High  \n",
       "3               High         Medium  \n",
       "4               High           High  \n",
       "...              ...            ...  \n",
       "1486       Very High      Very High  \n",
       "1487            High           High  \n",
       "1488            High           High  \n",
       "1489            High           High  \n",
       "1490          Medium            Low  \n",
       "\n",
       "[1491 rows x 24 columns]"
      ]
     },
     "execution_count": 42,
     "metadata": {},
     "output_type": "execute_result"
    }
   ],
   "source": [
    "df"
   ]
  },
  {
   "cell_type": "markdown",
   "metadata": {},
   "source": [
    "# Corregir tipos de información"
   ]
  },
  {
   "cell_type": "code",
   "execution_count": 43,
   "metadata": {},
   "outputs": [
    {
     "data": {
      "text/plain": [
       "['6 Times', '3 Times', '2 Times', '5 Times', '4 Times', '0 Times', '1 Times']\n",
       "Categories (7, object): ['0 Times', '1 Times', '2 Times', '3 Times', '4 Times', '5 Times', '6 Times']"
      ]
     },
     "execution_count": 43,
     "metadata": {},
     "output_type": "execute_result"
    }
   ],
   "source": [
    "df[\"TrainingTimesLastYear\"].unique()"
   ]
  },
  {
   "cell_type": "code",
   "execution_count": 44,
   "metadata": {},
   "outputs": [
    {
     "name": "stdout",
     "output_type": "stream",
     "text": [
      "Age\n",
      "TotalWorkingYears\n",
      "TotalWorkingYears\n",
      "YearsAtCompany\n",
      "YearsSinceLastPromotion\n",
      "YearsWithCurrManager\n",
      "MonthlyIncome\n"
     ]
    }
   ],
   "source": [
    "cols_int = [\"Age\",\"TotalWorkingYears\",\"TotalWorkingYears\",\"YearsAtCompany\",\"YearsSinceLastPromotion\",\"YearsWithCurrManager\",\"MonthlyIncome\"]\n",
    "for col in cols_int:\n",
    "    print(col)\n",
    "    df[col] = df[col].astype(int)"
   ]
  },
  {
   "cell_type": "code",
   "execution_count": 45,
   "metadata": {},
   "outputs": [
    {
     "name": "stdout",
     "output_type": "stream",
     "text": [
      "<class 'pandas.core.frame.DataFrame'>\n",
      "RangeIndex: 1491 entries, 0 to 1490\n",
      "Data columns (total 24 columns):\n",
      " #   Column                   Non-Null Count  Dtype   \n",
      "---  ------                   --------------  -----   \n",
      " 0   Age                      1491 non-null   int64   \n",
      " 1   Attrition                1491 non-null   object  \n",
      " 2   BusinessTravel           1491 non-null   object  \n",
      " 3   Department               1491 non-null   object  \n",
      " 4   DistanceFromHome         1491 non-null   category\n",
      " 5   Education                1491 non-null   category\n",
      " 6   EducationField           1491 non-null   object  \n",
      " 7   Gender                   1491 non-null   object  \n",
      " 8   JobLevel                 1491 non-null   category\n",
      " 9   JobRole                  1491 non-null   object  \n",
      " 10  MaritalStatus            1491 non-null   object  \n",
      " 11  MonthlyIncome            1491 non-null   int64   \n",
      " 12  NumCompaniesWorked       1491 non-null   category\n",
      " 13  PercentSalaryHike        1491 non-null   category\n",
      " 14  StockOptionLevel         1491 non-null   category\n",
      " 15  TotalWorkingYears        1491 non-null   int64   \n",
      " 16  TrainingTimesLastYear    1491 non-null   category\n",
      " 17  YearsAtCompany           1491 non-null   int64   \n",
      " 18  YearsSinceLastPromotion  1491 non-null   int64   \n",
      " 19  YearsWithCurrManager     1491 non-null   int64   \n",
      " 20  EnvironmentSatisfaction  1491 non-null   category\n",
      " 21  JobSatisfaction          1491 non-null   category\n",
      " 22  WorkLifeBalance          1491 non-null   category\n",
      " 23  JobInvolvement           1491 non-null   category\n",
      "dtypes: category(11), int64(6), object(7)\n",
      "memory usage: 171.6+ KB\n"
     ]
    }
   ],
   "source": [
    "df.info()"
   ]
  },
  {
   "cell_type": "markdown",
   "metadata": {},
   "source": [
    "Pasamos los object a category"
   ]
  },
  {
   "cell_type": "code",
   "execution_count": 46,
   "metadata": {},
   "outputs": [],
   "source": [
    "cols_cat = [\"BusinessTravel\",\"Department\",\"EducationField\",\"Gender\",\"JobRole\",\"MaritalStatus\"]\n",
    "for cat in cols_cat:\n",
    "    df[cat] = df[cat].astype(\"category\")\n",
    "    "
   ]
  },
  {
   "cell_type": "markdown",
   "metadata": {},
   "source": [
    "# Pasamos VR a numérica\n",
    "- No: 0\n",
    "- Sí: 1\n",
    "\n",
    "Donde no, es que sigue en la empresa\n",
    "\n",
    "Donde sí, es que se fue de la empresa"
   ]
  },
  {
   "cell_type": "code",
   "execution_count": 47,
   "metadata": {},
   "outputs": [
    {
     "data": {
      "text/html": [
       "<div>\n",
       "<style scoped>\n",
       "    .dataframe tbody tr th:only-of-type {\n",
       "        vertical-align: middle;\n",
       "    }\n",
       "\n",
       "    .dataframe tbody tr th {\n",
       "        vertical-align: top;\n",
       "    }\n",
       "\n",
       "    .dataframe thead th {\n",
       "        text-align: right;\n",
       "    }\n",
       "</style>\n",
       "<table border=\"1\" class=\"dataframe\">\n",
       "  <thead>\n",
       "    <tr style=\"text-align: right;\">\n",
       "      <th></th>\n",
       "      <th>Age</th>\n",
       "      <th>Attrition</th>\n",
       "      <th>BusinessTravel</th>\n",
       "      <th>Department</th>\n",
       "      <th>DistanceFromHome</th>\n",
       "      <th>Education</th>\n",
       "      <th>EducationField</th>\n",
       "      <th>Gender</th>\n",
       "      <th>JobLevel</th>\n",
       "      <th>JobRole</th>\n",
       "      <th>MaritalStatus</th>\n",
       "      <th>MonthlyIncome</th>\n",
       "      <th>NumCompaniesWorked</th>\n",
       "      <th>PercentSalaryHike</th>\n",
       "      <th>StockOptionLevel</th>\n",
       "      <th>TotalWorkingYears</th>\n",
       "      <th>TrainingTimesLastYear</th>\n",
       "      <th>YearsAtCompany</th>\n",
       "      <th>YearsSinceLastPromotion</th>\n",
       "      <th>YearsWithCurrManager</th>\n",
       "      <th>EnvironmentSatisfaction</th>\n",
       "      <th>JobSatisfaction</th>\n",
       "      <th>WorkLifeBalance</th>\n",
       "      <th>JobInvolvement</th>\n",
       "    </tr>\n",
       "  </thead>\n",
       "  <tbody>\n",
       "    <tr>\n",
       "      <th>1329</th>\n",
       "      <td>41</td>\n",
       "      <td>No</td>\n",
       "      <td>Travel_Frequently</td>\n",
       "      <td>Sales</td>\n",
       "      <td>10 km</td>\n",
       "      <td>College</td>\n",
       "      <td>Medical</td>\n",
       "      <td>Female</td>\n",
       "      <td>Level 3</td>\n",
       "      <td>Manufacturing Director</td>\n",
       "      <td>Divorced</td>\n",
       "      <td>79450</td>\n",
       "      <td>4 companies</td>\n",
       "      <td>12 %</td>\n",
       "      <td>Level 1</td>\n",
       "      <td>21</td>\n",
       "      <td>6 Times</td>\n",
       "      <td>7</td>\n",
       "      <td>7</td>\n",
       "      <td>7</td>\n",
       "      <td>Very High</td>\n",
       "      <td>Low</td>\n",
       "      <td>Medium</td>\n",
       "      <td>Medium</td>\n",
       "    </tr>\n",
       "  </tbody>\n",
       "</table>\n",
       "</div>"
      ],
      "text/plain": [
       "      Age Attrition     BusinessTravel Department DistanceFromHome Education  \\\n",
       "1329   41        No  Travel_Frequently      Sales            10 km   College   \n",
       "\n",
       "     EducationField  Gender JobLevel                 JobRole MaritalStatus  \\\n",
       "1329        Medical  Female  Level 3  Manufacturing Director      Divorced   \n",
       "\n",
       "      MonthlyIncome NumCompaniesWorked PercentSalaryHike StockOptionLevel  \\\n",
       "1329          79450        4 companies              12 %          Level 1   \n",
       "\n",
       "      TotalWorkingYears TrainingTimesLastYear  YearsAtCompany  \\\n",
       "1329                 21               6 Times               7   \n",
       "\n",
       "      YearsSinceLastPromotion  YearsWithCurrManager EnvironmentSatisfaction  \\\n",
       "1329                        7                     7               Very High   \n",
       "\n",
       "     JobSatisfaction WorkLifeBalance JobInvolvement  \n",
       "1329             Low          Medium         Medium  "
      ]
     },
     "execution_count": 47,
     "metadata": {},
     "output_type": "execute_result"
    }
   ],
   "source": [
    "df.sample()"
   ]
  },
  {
   "cell_type": "code",
   "execution_count": 48,
   "metadata": {},
   "outputs": [],
   "source": [
    "dictio_vr = {\n",
    "    \"No\" : 0,\n",
    "    \"Yes\" : 1\n",
    "}\n",
    "\n",
    "df[\"Attrition\"] = df[\"Attrition\"].map(dictio_vr).astype(\"category\")"
   ]
  },
  {
   "cell_type": "code",
   "execution_count": 49,
   "metadata": {},
   "outputs": [
    {
     "data": {
      "text/html": [
       "<div>\n",
       "<style scoped>\n",
       "    .dataframe tbody tr th:only-of-type {\n",
       "        vertical-align: middle;\n",
       "    }\n",
       "\n",
       "    .dataframe tbody tr th {\n",
       "        vertical-align: top;\n",
       "    }\n",
       "\n",
       "    .dataframe thead th {\n",
       "        text-align: right;\n",
       "    }\n",
       "</style>\n",
       "<table border=\"1\" class=\"dataframe\">\n",
       "  <thead>\n",
       "    <tr style=\"text-align: right;\">\n",
       "      <th></th>\n",
       "      <th>Age</th>\n",
       "      <th>Attrition</th>\n",
       "      <th>BusinessTravel</th>\n",
       "      <th>Department</th>\n",
       "      <th>DistanceFromHome</th>\n",
       "      <th>Education</th>\n",
       "      <th>EducationField</th>\n",
       "      <th>Gender</th>\n",
       "      <th>JobLevel</th>\n",
       "      <th>JobRole</th>\n",
       "      <th>MaritalStatus</th>\n",
       "      <th>MonthlyIncome</th>\n",
       "      <th>NumCompaniesWorked</th>\n",
       "      <th>PercentSalaryHike</th>\n",
       "      <th>StockOptionLevel</th>\n",
       "      <th>TotalWorkingYears</th>\n",
       "      <th>TrainingTimesLastYear</th>\n",
       "      <th>YearsAtCompany</th>\n",
       "      <th>YearsSinceLastPromotion</th>\n",
       "      <th>YearsWithCurrManager</th>\n",
       "      <th>EnvironmentSatisfaction</th>\n",
       "      <th>JobSatisfaction</th>\n",
       "      <th>WorkLifeBalance</th>\n",
       "      <th>JobInvolvement</th>\n",
       "    </tr>\n",
       "  </thead>\n",
       "  <tbody>\n",
       "    <tr>\n",
       "      <th>64</th>\n",
       "      <td>30</td>\n",
       "      <td>0</td>\n",
       "      <td>Travel_Rarely</td>\n",
       "      <td>Research &amp; Development</td>\n",
       "      <td>13 km</td>\n",
       "      <td>Bachelor</td>\n",
       "      <td>Life Sciences</td>\n",
       "      <td>Female</td>\n",
       "      <td>Level 4</td>\n",
       "      <td>Research Director</td>\n",
       "      <td>Married</td>\n",
       "      <td>41970</td>\n",
       "      <td>1 companies</td>\n",
       "      <td>13 %</td>\n",
       "      <td>Level 0</td>\n",
       "      <td>11</td>\n",
       "      <td>3 Times</td>\n",
       "      <td>10</td>\n",
       "      <td>1</td>\n",
       "      <td>9</td>\n",
       "      <td>Very High</td>\n",
       "      <td>Very High</td>\n",
       "      <td>High</td>\n",
       "      <td>High</td>\n",
       "    </tr>\n",
       "  </tbody>\n",
       "</table>\n",
       "</div>"
      ],
      "text/plain": [
       "    Age Attrition BusinessTravel              Department DistanceFromHome  \\\n",
       "64   30         0  Travel_Rarely  Research & Development            13 km   \n",
       "\n",
       "   Education EducationField  Gender JobLevel            JobRole MaritalStatus  \\\n",
       "64  Bachelor  Life Sciences  Female  Level 4  Research Director       Married   \n",
       "\n",
       "    MonthlyIncome NumCompaniesWorked PercentSalaryHike StockOptionLevel  \\\n",
       "64          41970        1 companies              13 %          Level 0   \n",
       "\n",
       "    TotalWorkingYears TrainingTimesLastYear  YearsAtCompany  \\\n",
       "64                 11               3 Times              10   \n",
       "\n",
       "    YearsSinceLastPromotion  YearsWithCurrManager EnvironmentSatisfaction  \\\n",
       "64                        1                     9               Very High   \n",
       "\n",
       "   JobSatisfaction WorkLifeBalance JobInvolvement  \n",
       "64       Very High            High           High  "
      ]
     },
     "execution_count": 49,
     "metadata": {},
     "output_type": "execute_result"
    }
   ],
   "source": [
    "df.sample()"
   ]
  },
  {
   "cell_type": "markdown",
   "metadata": {},
   "source": [
    "# Guardamos el DF"
   ]
  },
  {
   "cell_type": "code",
   "execution_count": 50,
   "metadata": {},
   "outputs": [],
   "source": [
    "df.to_pickle(\"../../datos/02_datos_gestionados.plk\")"
   ]
  }
 ],
 "metadata": {
  "kernelspec": {
   "display_name": "Python 3",
   "language": "python",
   "name": "python3"
  },
  "language_info": {
   "codemirror_mode": {
    "name": "ipython",
    "version": 3
   },
   "file_extension": ".py",
   "mimetype": "text/x-python",
   "name": "python",
   "nbconvert_exporter": "python",
   "pygments_lexer": "ipython3",
   "version": "3.11.9"
  }
 },
 "nbformat": 4,
 "nbformat_minor": 2
}
