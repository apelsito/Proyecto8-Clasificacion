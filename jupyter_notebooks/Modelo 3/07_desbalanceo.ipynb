{
 "cells": [
  {
   "cell_type": "code",
   "execution_count": 1,
   "metadata": {},
   "outputs": [],
   "source": [
    "# Tratamiento de datos\n",
    "# -----------------------------------------------------------------------\n",
    "import numpy as np\n",
    "import pandas as pd\n",
    "\n",
    "# Otros objetivos\n",
    "# -----------------------------------------------------------------------\n",
    "import math\n",
    "\n",
    "# Gráficos\n",
    "# -----------------------------------------------------------------------\n",
    "import seaborn as sns\n",
    "import matplotlib.pyplot as plt\n",
    "import sys\n",
    "sys.path.append(\"../../\")\n",
    "import src.soporte_logistica_preprocesamiento as pre\n",
    "\n",
    "\n",
    "pd.set_option('display.float_format', '{:.2f}'.format)\n",
    "\n",
    "\n",
    "# Imputación de nulos usando métodos avanzados estadísticos\n",
    "# -----------------------------------------------------------------------\n",
    "from sklearn.impute import SimpleImputer\n",
    "from sklearn.experimental import enable_iterative_imputer\n",
    "from sklearn.impute import IterativeImputer\n",
    "from sklearn.impute import KNNImputer\n",
    "from sklearn.ensemble import RandomForestRegressor\n",
    "\n",
    "import warnings\n",
    "warnings.filterwarnings(\"ignore\")\n",
    "pd.set_option('display.max_columns',100)\n"
   ]
  },
  {
   "cell_type": "code",
   "execution_count": 2,
   "metadata": {},
   "outputs": [],
   "source": [
    "df = pd.read_pickle(\"../../datos/05_datos_outliers_gestionado.plk\")"
   ]
  },
  {
   "cell_type": "markdown",
   "metadata": {},
   "source": [
    "# Desbalanceo\n",
    "- Ocurre cuando tenemos en la variable respuesta demasiados valores de una opción y muy pocos de la otra\n",
    "- En nuestro caso esto ocurre, vamos a mostrarlo\n",
    "- Recordemos que:\n",
    "    - 0 es No \n",
    "    - 1 es Si"
   ]
  },
  {
   "cell_type": "code",
   "execution_count": 3,
   "metadata": {},
   "outputs": [
    {
     "data": {
      "text/plain": [
       "Attrition\n",
       "0    3611\n",
       "1     711\n",
       "Name: count, dtype: int64"
      ]
     },
     "execution_count": 3,
     "metadata": {},
     "output_type": "execute_result"
    }
   ],
   "source": [
    "df[\"Attrition\"].value_counts()"
   ]
  },
  {
   "cell_type": "code",
   "execution_count": 4,
   "metadata": {},
   "outputs": [
    {
     "data": {
      "text/plain": [
       "<Axes: xlabel='count', ylabel='Attrition'>"
      ]
     },
     "execution_count": 4,
     "metadata": {},
     "output_type": "execute_result"
    },
    {
     "data": {
      "image/png": "[encoded data removed]",
      "text/plain": [
       "<Figure size 640x480 with 1 Axes>"
      ]
     },
     "metadata": {},
     "output_type": "display_data"
    }
   ],
   "source": [
    "sns.countplot(df[\"Attrition\"].astype(\"category\"))"
   ]
  },
  {
   "cell_type": "markdown",
   "metadata": {},
   "source": [
    "Como vemos, tenemos muchos valores 0 y pocos 1"
   ]
  },
  {
   "cell_type": "code",
   "execution_count": 5,
   "metadata": {},
   "outputs": [],
   "source": [
    "desbalanceo = pre.Desbalanceo(df,\"Attrition\")"
   ]
  },
  {
   "cell_type": "markdown",
   "metadata": {},
   "source": [
    "# Utilizar SMOTENC"
   ]
  },
  {
   "cell_type": "code",
   "execution_count": 6,
   "metadata": {},
   "outputs": [
    {
     "data": {
      "text/html": [
       "<div>\n",
       "<style scoped>\n",
       "    .dataframe tbody tr th:only-of-type {\n",
       "        vertical-align: middle;\n",
       "    }\n",
       "\n",
       "    .dataframe tbody tr th {\n",
       "        vertical-align: top;\n",
       "    }\n",
       "\n",
       "    .dataframe thead th {\n",
       "        text-align: right;\n",
       "    }\n",
       "</style>\n",
       "<table border=\"1\" class=\"dataframe\">\n",
       "  <thead>\n",
       "    <tr style=\"text-align: right;\">\n",
       "      <th></th>\n",
       "      <th>BusinessTravel</th>\n",
       "      <th>Department</th>\n",
       "      <th>DistanceFromHome</th>\n",
       "      <th>EducationField</th>\n",
       "      <th>JobRole</th>\n",
       "      <th>MaritalStatus</th>\n",
       "      <th>NumCompaniesWorked</th>\n",
       "      <th>TrainingTimesLastYear</th>\n",
       "      <th>EnvironmentSatisfaction</th>\n",
       "      <th>JobSatisfaction</th>\n",
       "      <th>WorkLifeBalance</th>\n",
       "      <th>JobInvolvement</th>\n",
       "      <th>Age</th>\n",
       "      <th>Attrition</th>\n",
       "      <th>MonthlyIncome</th>\n",
       "      <th>TotalWorkingYears</th>\n",
       "      <th>YearsAtCompany</th>\n",
       "      <th>YearsSinceLastPromotion</th>\n",
       "      <th>YearsWithCurrManager</th>\n",
       "      <th>Education_Bachelor</th>\n",
       "      <th>Education_Below College</th>\n",
       "      <th>Education_College</th>\n",
       "      <th>Education_Doctor</th>\n",
       "      <th>Education_Master</th>\n",
       "      <th>Gender_Female</th>\n",
       "      <th>Gender_Male</th>\n",
       "      <th>JobLevel_Level 1</th>\n",
       "      <th>JobLevel_Level 2</th>\n",
       "      <th>JobLevel_Level 3</th>\n",
       "      <th>JobLevel_Level 4</th>\n",
       "      <th>JobLevel_Level 5</th>\n",
       "      <th>PercentSalaryHike_11 %</th>\n",
       "      <th>PercentSalaryHike_12 %</th>\n",
       "      <th>PercentSalaryHike_13 %</th>\n",
       "      <th>PercentSalaryHike_14 %</th>\n",
       "      <th>PercentSalaryHike_15 %</th>\n",
       "      <th>PercentSalaryHike_16 %</th>\n",
       "      <th>PercentSalaryHike_17 %</th>\n",
       "      <th>PercentSalaryHike_18 %</th>\n",
       "      <th>PercentSalaryHike_19 %</th>\n",
       "      <th>PercentSalaryHike_20 %</th>\n",
       "      <th>PercentSalaryHike_21 %</th>\n",
       "      <th>PercentSalaryHike_22 %</th>\n",
       "      <th>PercentSalaryHike_23 %</th>\n",
       "      <th>PercentSalaryHike_24 %</th>\n",
       "      <th>PercentSalaryHike_25 %</th>\n",
       "      <th>StockOptionLevel_Level 0</th>\n",
       "      <th>StockOptionLevel_Level 1</th>\n",
       "      <th>StockOptionLevel_Level 2</th>\n",
       "      <th>StockOptionLevel_Level 3</th>\n",
       "    </tr>\n",
       "  </thead>\n",
       "  <tbody>\n",
       "    <tr>\n",
       "      <th>604</th>\n",
       "      <td>0.00</td>\n",
       "      <td>-1.00</td>\n",
       "      <td>-0.32</td>\n",
       "      <td>0.00</td>\n",
       "      <td>0.18</td>\n",
       "      <td>-0.18</td>\n",
       "      <td>-1.12</td>\n",
       "      <td>0.10</td>\n",
       "      <td>-0.20</td>\n",
       "      <td>-0.98</td>\n",
       "      <td>1.00</td>\n",
       "      <td>0.00</td>\n",
       "      <td>46</td>\n",
       "      <td>0</td>\n",
       "      <td>141180</td>\n",
       "      <td>12</td>\n",
       "      <td>6</td>\n",
       "      <td>1</td>\n",
       "      <td>4</td>\n",
       "      <td>0.00</td>\n",
       "      <td>1.00</td>\n",
       "      <td>0.00</td>\n",
       "      <td>0.00</td>\n",
       "      <td>0.00</td>\n",
       "      <td>1.00</td>\n",
       "      <td>0.00</td>\n",
       "      <td>1.00</td>\n",
       "      <td>0.00</td>\n",
       "      <td>0.00</td>\n",
       "      <td>0.00</td>\n",
       "      <td>0.00</td>\n",
       "      <td>0.00</td>\n",
       "      <td>0.00</td>\n",
       "      <td>0.00</td>\n",
       "      <td>0.00</td>\n",
       "      <td>0.00</td>\n",
       "      <td>0.00</td>\n",
       "      <td>0.00</td>\n",
       "      <td>0.00</td>\n",
       "      <td>0.00</td>\n",
       "      <td>0.00</td>\n",
       "      <td>0.00</td>\n",
       "      <td>1.00</td>\n",
       "      <td>0.00</td>\n",
       "      <td>0.00</td>\n",
       "      <td>0.00</td>\n",
       "      <td>1.00</td>\n",
       "      <td>0.00</td>\n",
       "      <td>0.00</td>\n",
       "      <td>0.00</td>\n",
       "    </tr>\n",
       "  </tbody>\n",
       "</table>\n",
       "</div>"
      ],
      "text/plain": [
       "     BusinessTravel  Department  DistanceFromHome  EducationField  JobRole  \\\n",
       "604            0.00       -1.00             -0.32            0.00     0.18   \n",
       "\n",
       "     MaritalStatus  NumCompaniesWorked  TrainingTimesLastYear  \\\n",
       "604          -0.18               -1.12                   0.10   \n",
       "\n",
       "     EnvironmentSatisfaction  JobSatisfaction  WorkLifeBalance  \\\n",
       "604                    -0.20            -0.98             1.00   \n",
       "\n",
       "     JobInvolvement  Age  Attrition  MonthlyIncome  TotalWorkingYears  \\\n",
       "604            0.00   46          0         141180                 12   \n",
       "\n",
       "     YearsAtCompany  YearsSinceLastPromotion  YearsWithCurrManager  \\\n",
       "604               6                        1                     4   \n",
       "\n",
       "     Education_Bachelor  Education_Below College  Education_College  \\\n",
       "604                0.00                     1.00               0.00   \n",
       "\n",
       "     Education_Doctor  Education_Master  Gender_Female  Gender_Male  \\\n",
       "604              0.00              0.00           1.00         0.00   \n",
       "\n",
       "     JobLevel_Level 1  JobLevel_Level 2  JobLevel_Level 3  JobLevel_Level 4  \\\n",
       "604              1.00              0.00              0.00              0.00   \n",
       "\n",
       "     JobLevel_Level 5  PercentSalaryHike_11 %  PercentSalaryHike_12 %  \\\n",
       "604              0.00                    0.00                    0.00   \n",
       "\n",
       "     PercentSalaryHike_13 %  PercentSalaryHike_14 %  PercentSalaryHike_15 %  \\\n",
       "604                    0.00                    0.00                    0.00   \n",
       "\n",
       "     PercentSalaryHike_16 %  PercentSalaryHike_17 %  PercentSalaryHike_18 %  \\\n",
       "604                    0.00                    0.00                    0.00   \n",
       "\n",
       "     PercentSalaryHike_19 %  PercentSalaryHike_20 %  PercentSalaryHike_21 %  \\\n",
       "604                    0.00                    0.00                    0.00   \n",
       "\n",
       "     PercentSalaryHike_22 %  PercentSalaryHike_23 %  PercentSalaryHike_24 %  \\\n",
       "604                    1.00                    0.00                    0.00   \n",
       "\n",
       "     PercentSalaryHike_25 %  StockOptionLevel_Level 0  \\\n",
       "604                    0.00                      1.00   \n",
       "\n",
       "     StockOptionLevel_Level 1  StockOptionLevel_Level 2  \\\n",
       "604                      0.00                      0.00   \n",
       "\n",
       "     StockOptionLevel_Level 3  \n",
       "604                      0.00  "
      ]
     },
     "execution_count": 6,
     "metadata": {},
     "output_type": "execute_result"
    }
   ],
   "source": [
    "df.sample()"
   ]
  },
  {
   "cell_type": "code",
   "execution_count": 7,
   "metadata": {},
   "outputs": [],
   "source": [
    "cols_cat = [\"BusinessTravel\", \"Department\", \"DistanceFromHome\",\n",
    "             \"EducationField\", \"JobRole\", \"MaritalStatus\",\n",
    "             \"NumCompaniesWorked\",\"TrainingTimesLastYear\",\n",
    "             \"EnvironmentSatisfaction\",\"JobSatisfaction\",\n",
    "             \"WorkLifeBalance\",\"JobInvolvement\"]"
   ]
  },
  {
   "cell_type": "code",
   "execution_count": 8,
   "metadata": {},
   "outputs": [],
   "source": [
    "df_balanced = desbalanceo.balancear_clases_smotenc(cols_cat)"
   ]
  },
  {
   "cell_type": "code",
   "execution_count": 9,
   "metadata": {},
   "outputs": [],
   "source": [
    "df.to_pickle(\"../../datos/06_datos_balanceados.pkl\")"
   ]
  }
 ],
 "metadata": {
  "kernelspec": {
   "display_name": "Python 3",
   "language": "python",
   "name": "python3"
  },
  "language_info": {
   "codemirror_mode": {
    "name": "ipython",
    "version": 3
   },
   "file_extension": ".py",
   "mimetype": "text/x-python",
   "name": "python",
   "nbconvert_exporter": "python",
   "pygments_lexer": "ipython3",
   "version": "3.11.9"
  }
 },
 "nbformat": 4,
 "nbformat_minor": 2
}
