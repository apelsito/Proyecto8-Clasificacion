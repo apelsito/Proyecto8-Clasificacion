{
 "cells": [
  {
   "cell_type": "code",
   "execution_count": 1,
   "metadata": {},
   "outputs": [],
   "source": [
    "import pandas as pd\n",
    "import pickle\n",
    "import numpy as np\n",
    "import sys\n",
    "sys.path.append(\"../\")\n",
    "from src.soporte_transformers import (\n",
    "    load_models\n",
    ")\n",
    "pd.set_option('display.max_columns',100)"
   ]
  },
  {
   "cell_type": "code",
   "execution_count": 2,
   "metadata": {},
   "outputs": [
    {
     "data": {
      "text/html": [
       "<div>\n",
       "<style scoped>\n",
       "    .dataframe tbody tr th:only-of-type {\n",
       "        vertical-align: middle;\n",
       "    }\n",
       "\n",
       "    .dataframe tbody tr th {\n",
       "        vertical-align: top;\n",
       "    }\n",
       "\n",
       "    .dataframe thead th {\n",
       "        text-align: right;\n",
       "    }\n",
       "</style>\n",
       "<table border=\"1\" class=\"dataframe\">\n",
       "  <thead>\n",
       "    <tr style=\"text-align: right;\">\n",
       "      <th></th>\n",
       "      <th>Age</th>\n",
       "      <th>Attrition</th>\n",
       "      <th>BusinessTravel</th>\n",
       "      <th>Department</th>\n",
       "      <th>DistanceFromHome</th>\n",
       "      <th>Education</th>\n",
       "      <th>EducationField</th>\n",
       "      <th>Gender</th>\n",
       "      <th>JobLevel</th>\n",
       "      <th>JobRole</th>\n",
       "      <th>MaritalStatus</th>\n",
       "      <th>MonthlyIncome</th>\n",
       "      <th>NumCompaniesWorked</th>\n",
       "      <th>PercentSalaryHike</th>\n",
       "      <th>StockOptionLevel</th>\n",
       "      <th>TotalWorkingYears</th>\n",
       "      <th>TrainingTimesLastYear</th>\n",
       "      <th>YearsAtCompany</th>\n",
       "      <th>YearsSinceLastPromotion</th>\n",
       "      <th>YearsWithCurrManager</th>\n",
       "      <th>EnvironmentSatisfaction</th>\n",
       "      <th>JobSatisfaction</th>\n",
       "      <th>WorkLifeBalance</th>\n",
       "      <th>JobInvolvement</th>\n",
       "    </tr>\n",
       "  </thead>\n",
       "  <tbody>\n",
       "    <tr>\n",
       "      <th>152</th>\n",
       "      <td>34</td>\n",
       "      <td>1</td>\n",
       "      <td>Travel_Frequently</td>\n",
       "      <td>Research &amp; Development</td>\n",
       "      <td>5 km</td>\n",
       "      <td>Bachelor</td>\n",
       "      <td>Medical</td>\n",
       "      <td>Male</td>\n",
       "      <td>Level 2</td>\n",
       "      <td>Research Scientist</td>\n",
       "      <td>Divorced</td>\n",
       "      <td>137440</td>\n",
       "      <td>None</td>\n",
       "      <td>20 %</td>\n",
       "      <td>Level 1</td>\n",
       "      <td>3</td>\n",
       "      <td>3 Times</td>\n",
       "      <td>2</td>\n",
       "      <td>1</td>\n",
       "      <td>0</td>\n",
       "      <td>Very High</td>\n",
       "      <td>High</td>\n",
       "      <td>Medium</td>\n",
       "      <td>High</td>\n",
       "    </tr>\n",
       "  </tbody>\n",
       "</table>\n",
       "</div>"
      ],
      "text/plain": [
       "     Age Attrition     BusinessTravel              Department  \\\n",
       "152   34         1  Travel_Frequently  Research & Development   \n",
       "\n",
       "    DistanceFromHome Education EducationField Gender JobLevel  \\\n",
       "152             5 km  Bachelor        Medical   Male  Level 2   \n",
       "\n",
       "                JobRole MaritalStatus  MonthlyIncome NumCompaniesWorked  \\\n",
       "152  Research Scientist      Divorced         137440               None   \n",
       "\n",
       "    PercentSalaryHike StockOptionLevel  TotalWorkingYears  \\\n",
       "152              20 %          Level 1                  3   \n",
       "\n",
       "    TrainingTimesLastYear  YearsAtCompany  YearsSinceLastPromotion  \\\n",
       "152               3 Times               2                        1   \n",
       "\n",
       "     YearsWithCurrManager EnvironmentSatisfaction JobSatisfaction  \\\n",
       "152                     0               Very High            High   \n",
       "\n",
       "    WorkLifeBalance JobInvolvement  \n",
       "152          Medium           High  "
      ]
     },
     "execution_count": 2,
     "metadata": {},
     "output_type": "execute_result"
    }
   ],
   "source": [
    "df = pd.read_pickle(\"../datos/02_datos_gestionados.plk\")\n",
    "df.sample()"
   ]
  },
  {
   "cell_type": "code",
   "execution_count": 14,
   "metadata": {},
   "outputs": [
    {
     "name": "stdout",
     "output_type": "stream",
     "text": [
      "<class 'pandas.core.frame.DataFrame'>\n",
      "RangeIndex: 1491 entries, 0 to 1490\n",
      "Data columns (total 24 columns):\n",
      " #   Column                   Non-Null Count  Dtype   \n",
      "---  ------                   --------------  -----   \n",
      " 0   Age                      1491 non-null   int64   \n",
      " 1   Attrition                1491 non-null   category\n",
      " 2   BusinessTravel           1491 non-null   category\n",
      " 3   Department               1491 non-null   category\n",
      " 4   DistanceFromHome         1491 non-null   category\n",
      " 5   Education                1491 non-null   category\n",
      " 6   EducationField           1491 non-null   category\n",
      " 7   Gender                   1491 non-null   category\n",
      " 8   JobLevel                 1491 non-null   category\n",
      " 9   JobRole                  1491 non-null   category\n",
      " 10  MaritalStatus            1491 non-null   category\n",
      " 11  MonthlyIncome            1491 non-null   int64   \n",
      " 12  NumCompaniesWorked       1491 non-null   category\n",
      " 13  PercentSalaryHike        1491 non-null   category\n",
      " 14  StockOptionLevel         1491 non-null   category\n",
      " 15  TotalWorkingYears        1491 non-null   int64   \n",
      " 16  TrainingTimesLastYear    1491 non-null   category\n",
      " 17  YearsAtCompany           1491 non-null   int64   \n",
      " 18  YearsSinceLastPromotion  1491 non-null   int64   \n",
      " 19  YearsWithCurrManager     1491 non-null   int64   \n",
      " 20  EnvironmentSatisfaction  1491 non-null   category\n",
      " 21  JobSatisfaction          1491 non-null   category\n",
      " 22  WorkLifeBalance          1491 non-null   category\n",
      " 23  JobInvolvement           1491 non-null   category\n",
      "dtypes: category(18), int64(6)\n",
      "memory usage: 97.2 KB\n"
     ]
    }
   ],
   "source": [
    "df.info()"
   ]
  },
  {
   "cell_type": "markdown",
   "metadata": {},
   "source": [
    "# Creamos un dato nuevo\n",
    "- Para probar nuestras predicciones"
   ]
  },
  {
   "cell_type": "code",
   "execution_count": 4,
   "metadata": {},
   "outputs": [
    {
     "data": {
      "text/plain": [
       "array([0])"
      ]
     },
     "execution_count": 4,
     "metadata": {},
     "output_type": "execute_result"
    }
   ],
   "source": [
    "target_encoder, one_hot_encoder, robust_scaler, modelo_xgb =  load_models()\n",
    "\n",
    "cols_target = [\"BusinessTravel\", \"Department\", \"EducationField\", \"MaritalStatus\", \"NumCompaniesWorked\", \"EnvironmentSatisfaction\", \"JobSatisfaction\", \"WorkLifeBalance\"]\n",
    "cols_onehot = [\"DistanceFromHome\",\"Education\", \"Gender\", \"JobLevel\", \"JobRole\", \"PercentSalaryHike\", \"StockOptionLevel\",\"TrainingTimesLastYear\",\"JobInvolvement\"]\n",
    "\n",
    "cols_escalar = [\"Age\",\"BusinessTravel\", \"Department\", \"EducationField\",\n",
    "                  \"MaritalStatus\", \"MonthlyIncome\", \"NumCompaniesWorked\",\"TotalWorkingYears\",\n",
    "                  \"YearsAtCompany\",\"YearsSinceLastPromotion\",\"YearsWithCurrManager\",\n",
    "                  \"EnvironmentSatisfaction\", \"JobSatisfaction\", \"WorkLifeBalance\"]\n",
    "\n",
    "\n",
    "# Datos de una nueva casa para predicción\n",
    "employee = pd.DataFrame({\n",
    "    'Age': [13],\n",
    "    'BusinessTravel': [\"Travel_Rarely\"],\n",
    "    'Department': [\"Sales\"],\n",
    "    'DistanceFromHome': [\"11 km\"],\n",
    "    'Education': [\"Below College\"],\n",
    "    'EducationField': [\"Technical Degree\"],\n",
    "    'Gender': [\"Male\"],\n",
    "    'JobLevel': [\"Level 2\"],\n",
    "    'JobRole': [\"Human Resources\"],\n",
    "    'MaritalStatus': [\"Single\"],\n",
    "    'MonthlyIncome': [32568],\n",
    "    'NumCompaniesWorked': [\"3 companies\"],\n",
    "    'PercentSalaryHike': [\"18 %\"],\n",
    "    'StockOptionLevel': [\"Level 1\"],\n",
    "    'TotalWorkingYears': [12],\n",
    "    'TrainingTimesLastYear': [\"2 Times\"],\n",
    "    'YearsAtCompany': [4],\n",
    "    'YearsSinceLastPromotion': [1],\n",
    "    'YearsWithCurrManager': [3],\n",
    "    'EnvironmentSatisfaction': [\"Medium\"],\n",
    "    'JobSatisfaction': [\"High\"],\n",
    "    'WorkLifeBalance': [\"High\"],\n",
    "    'JobInvolvement' : [\"High\"]\n",
    "})\n",
    "\n",
    "df_pred = pd.DataFrame(employee)\n",
    "df_pred\n",
    "\n",
    "# Hacemos el OneHot Encoder\n",
    "onehot = one_hot_encoder.transform(df_pred[cols_onehot])\n",
    "# Obtenemos los nombres de las columnas del codificador\n",
    "column_names = one_hot_encoder.get_feature_names_out(cols_onehot)\n",
    "# Convertimos a un DataFrame\n",
    "onehot_df = pd.DataFrame(onehot.toarray(), columns=column_names)\n",
    "\n",
    "# Realizamos el target encoder\n",
    "df_pred[\"Attrition\"] = np.nan\n",
    "df_pred = target_encoder.transform(df_pred)\n",
    "\n",
    "# Quitamos las columnas que ya han sido onehoteadas \n",
    "df_pred.drop(columns= cols_onehot,inplace=True)\n",
    "df_pred = pd.concat([df_pred, onehot_df], axis=1)\n",
    "\n",
    "# Escalamos los valores\n",
    "df_pred[cols_escalar] = robust_scaler.transform(df_pred[cols_escalar])\n",
    "\n",
    "# Realizamos la predicción\n",
    "df_pred.drop(columns=\"Attrition\",inplace=True)\n",
    "modelo_xgb.predict(df_pred)"
   ]
  },
  {
   "cell_type": "markdown",
   "metadata": {},
   "source": [
    "# Ver si puedo guardar listas en pkl\n"
   ]
  },
  {
   "cell_type": "code",
   "execution_count": 7,
   "metadata": {},
   "outputs": [],
   "source": [
    "df = pd.read_pickle(\"../datos/02_datos_gestionados.plk\")"
   ]
  },
  {
   "cell_type": "code",
   "execution_count": 8,
   "metadata": {},
   "outputs": [
    {
     "data": {
      "text/html": [
       "<div>\n",
       "<style scoped>\n",
       "    .dataframe tbody tr th:only-of-type {\n",
       "        vertical-align: middle;\n",
       "    }\n",
       "\n",
       "    .dataframe tbody tr th {\n",
       "        vertical-align: top;\n",
       "    }\n",
       "\n",
       "    .dataframe thead th {\n",
       "        text-align: right;\n",
       "    }\n",
       "</style>\n",
       "<table border=\"1\" class=\"dataframe\">\n",
       "  <thead>\n",
       "    <tr style=\"text-align: right;\">\n",
       "      <th></th>\n",
       "      <th>Age</th>\n",
       "      <th>Attrition</th>\n",
       "      <th>BusinessTravel</th>\n",
       "      <th>Department</th>\n",
       "      <th>DistanceFromHome</th>\n",
       "      <th>Education</th>\n",
       "      <th>EducationField</th>\n",
       "      <th>Gender</th>\n",
       "      <th>JobLevel</th>\n",
       "      <th>JobRole</th>\n",
       "      <th>MaritalStatus</th>\n",
       "      <th>MonthlyIncome</th>\n",
       "      <th>NumCompaniesWorked</th>\n",
       "      <th>PercentSalaryHike</th>\n",
       "      <th>StockOptionLevel</th>\n",
       "      <th>TotalWorkingYears</th>\n",
       "      <th>TrainingTimesLastYear</th>\n",
       "      <th>YearsAtCompany</th>\n",
       "      <th>YearsSinceLastPromotion</th>\n",
       "      <th>YearsWithCurrManager</th>\n",
       "      <th>EnvironmentSatisfaction</th>\n",
       "      <th>JobSatisfaction</th>\n",
       "      <th>WorkLifeBalance</th>\n",
       "      <th>JobInvolvement</th>\n",
       "    </tr>\n",
       "  </thead>\n",
       "  <tbody>\n",
       "    <tr>\n",
       "      <th>1222</th>\n",
       "      <td>33</td>\n",
       "      <td>0</td>\n",
       "      <td>Travel_Frequently</td>\n",
       "      <td>Sales</td>\n",
       "      <td>9 km</td>\n",
       "      <td>College</td>\n",
       "      <td>Marketing</td>\n",
       "      <td>Male</td>\n",
       "      <td>Level 4</td>\n",
       "      <td>Human Resources</td>\n",
       "      <td>Married</td>\n",
       "      <td>29090</td>\n",
       "      <td>2 companies</td>\n",
       "      <td>11 %</td>\n",
       "      <td>Level 0</td>\n",
       "      <td>10</td>\n",
       "      <td>2 Times</td>\n",
       "      <td>5</td>\n",
       "      <td>1</td>\n",
       "      <td>3</td>\n",
       "      <td>High</td>\n",
       "      <td>Low</td>\n",
       "      <td>High</td>\n",
       "      <td>Medium</td>\n",
       "    </tr>\n",
       "  </tbody>\n",
       "</table>\n",
       "</div>"
      ],
      "text/plain": [
       "      Age Attrition     BusinessTravel Department DistanceFromHome Education  \\\n",
       "1222   33         0  Travel_Frequently      Sales             9 km   College   \n",
       "\n",
       "     EducationField Gender JobLevel          JobRole MaritalStatus  \\\n",
       "1222      Marketing   Male  Level 4  Human Resources       Married   \n",
       "\n",
       "      MonthlyIncome NumCompaniesWorked PercentSalaryHike StockOptionLevel  \\\n",
       "1222          29090        2 companies              11 %          Level 0   \n",
       "\n",
       "      TotalWorkingYears TrainingTimesLastYear  YearsAtCompany  \\\n",
       "1222                 10               2 Times               5   \n",
       "\n",
       "      YearsSinceLastPromotion  YearsWithCurrManager EnvironmentSatisfaction  \\\n",
       "1222                        1                     3                    High   \n",
       "\n",
       "     JobSatisfaction WorkLifeBalance JobInvolvement  \n",
       "1222             Low            High         Medium  "
      ]
     },
     "execution_count": 8,
     "metadata": {},
     "output_type": "execute_result"
    }
   ],
   "source": [
    "df.sample()"
   ]
  },
  {
   "cell_type": "markdown",
   "metadata": {},
   "source": [
    "BusinessTravel, Department, DistanceFromHome, Education, EducationField, Gender, JobLevel, JobRole, MaritalStatus, NumCompaniesWorked, PercentSalaryHike, StockOptionLevel, TrainingTimesLastYear, EnvironmentSatisfaction, JobSatisfaction, WorkLifeBalance, JobInvolvement"
   ]
  },
  {
   "cell_type": "code",
   "execution_count": null,
   "metadata": {},
   "outputs": [],
   "source": [
    "\n",
    "cols_cat = df.select_dtypes(\"category\")\n",
    "cols_cat.drop(columns=\"Attrition\",inplace=True)\n",
    "for i, col in enumerate(cols_cat.columns):\n",
    "    lista_opciones = cols_cat[col].unique().tolist()\n",
    "    with open(f'../datos/lista_opciones/{i}_lista_opciones_{col}.plk', 'wb') as archivo:\n",
    "        pickle.dump(sorted(lista_opciones), archivo)"
   ]
  },
  {
   "cell_type": "code",
   "execution_count": 17,
   "metadata": {},
   "outputs": [
    {
     "name": "stdout",
     "output_type": "stream",
     "text": [
      "['Non-Travel', 'Travel_Frequently', 'Travel_Rarely']\n",
      "['Human Resources', 'Research & Development', 'Sales']\n",
      "['1 km', '10 km', '11 km', '12 km', '13 km', '14 km', '15 km', '16 km', '17 km', '18 km', '19 km', '2 km', '20 km', '21 km', '22 km', '23 km', '24 km', '25 km', '26 km', '27 km', '28 km', '29 km', '3 km', '4 km', '5 km', '6 km', '7 km', '8 km', '9 km']\n",
      "['Bachelor', 'Below College', 'College', 'Doctor', 'Master']\n",
      "['Human Resources', 'Life Sciences', 'Marketing', 'Medical', 'Other', 'Technical Degree']\n",
      "['Female', 'Male']\n",
      "['Level 1', 'Level 2', 'Level 3', 'Level 4', 'Level 5']\n",
      "['Healthcare Representative', 'Human Resources', 'Laboratory Technician', 'Manager', 'Manufacturing Director', 'Research Director', 'Research Scientist', 'Sales Executive', 'Sales Representative']\n",
      "['Divorced', 'Married', 'Single']\n",
      "['1 companies', '2 companies', '3 companies', '4 companies', '5 companies', '6 companies', '7 companies', '8 companies', '9 companies', 'None']\n",
      "['11 %', '12 %', '13 %', '14 %', '15 %', '16 %', '17 %', '18 %', '19 %', '20 %', '21 %', '22 %', '23 %', '24 %', '25 %']\n",
      "['Level 0', 'Level 1', 'Level 2', 'Level 3']\n",
      "['0 Times', '1 Times', '2 Times', '3 Times', '4 Times', '5 Times', '6 Times']\n",
      "['High', 'Low', 'Medium', 'Very High']\n",
      "['High', 'Low', 'Medium', 'Very High']\n",
      "['High', 'Low', 'Medium', 'Very High']\n",
      "['High', 'Low', 'Medium', 'Very High']\n"
     ]
    }
   ],
   "source": [
    "df = pd.read_pickle(\"../datos/02_datos_gestionados.plk\")\n",
    "cols_cat = df.select_dtypes(\"category\")\n",
    "cols_cat.drop(columns=\"Attrition\",inplace=True)\n",
    "for i, col in enumerate(cols_cat.columns):\n",
    "    with open(f'../datos/lista_opciones/{i}_lista_opciones_{col}.plk', 'rb') as archivo:\n",
    "        bujia = pickle.load(archivo)\n",
    "        print(bujia)"
   ]
  },
  {
   "cell_type": "code",
   "execution_count": null,
   "metadata": {},
   "outputs": [],
   "source": []
  },
  {
   "cell_type": "code",
   "execution_count": null,
   "metadata": {},
   "outputs": [],
   "source": [
    "lista_tipo_propiedad = df[\"propertyType\"].unique().tolist()\n",
    "lista_habitaciones = df[\"rooms\"].unique().tolist()\n",
    "lista_aseos = df[\"bathrooms\"].unique().tolist()\n",
    "lista_floor = df[\"floor\"].unique().tolist()\n",
    "lista_municipality = df[\"municipality\"].unique().tolist()\n",
    "lista_district = df[\"district\"].unique().tolist()\n",
    "lista_ascensor = df[\"hasLift\"].unique().tolist()\n",
    "lista_distancia = df[\"distancia_centro\"].unique().tolist()\n"
   ]
  },
  {
   "cell_type": "code",
   "execution_count": null,
   "metadata": {},
   "outputs": [],
   "source": [
    "lista_distancia = ['Menos de 1 km', 'Entre 1 y 5 km', 'Entre 5 y 10 km', 'Entre 10 y 20 km', 'Entre 20 y 30 km', 'Entre 30 y 40 km', 'Entre 40 y 50 km', 'Mas de 50 km']"
   ]
  },
  {
   "cell_type": "code",
   "execution_count": null,
   "metadata": {},
   "outputs": [],
   "source": [
    "lista_floor = ['sotano',\"bajo\",\"entreplanta\",'primero',\"segundo\",\"tercero\",\"cuarto\",\"quinto\",\"sexto\",\"septimo\",\"octavo\",\"decimo cuarto\",\"desconocido\"]"
   ]
  },
  {
   "cell_type": "markdown",
   "metadata": {},
   "source": [
    "### Guardarlos en un pickle"
   ]
  },
  {
   "cell_type": "code",
   "execution_count": null,
   "metadata": {},
   "outputs": [],
   "source": [
    "with open('../datos/lista_opciones/01_tipo_propiedad.pkl', 'wb') as archivo:\n",
    "    pickle.dump(sorted(lista_tipo_propiedad), archivo)\n",
    "with open('../datos/lista_opciones/02_num_habitaciones.pkl', 'wb') as archivo:\n",
    "    pickle.dump(sorted(lista_habitaciones), archivo)\n",
    "with open('../datos/lista_opciones/03_num_aseos.pkl', 'wb') as archivo:\n",
    "    pickle.dump(sorted(lista_aseos), archivo)\n",
    "with open('../datos/lista_opciones/04_floor.pkl', 'wb') as archivo:\n",
    "    pickle.dump(lista_floor, archivo)\n",
    "with open('../datos/lista_opciones/05_municipio.pkl', 'wb') as archivo:\n",
    "    pickle.dump(sorted(lista_municipality), archivo)\n",
    "with open('../datos/lista_opciones/06_distrito.pkl', 'wb') as archivo:\n",
    "    pickle.dump(sorted(lista_district), archivo)\n",
    "with open('../datos/lista_opciones/07_ascensor.pkl', 'wb') as archivo:\n",
    "    pickle.dump(sorted(lista_ascensor), archivo)\n",
    "with open('../datos/lista_opciones/08_distancia_centro.pkl', 'wb') as archivo:\n",
    "    pickle.dump(lista_distancia, archivo)"
   ]
  },
  {
   "cell_type": "code",
   "execution_count": null,
   "metadata": {},
   "outputs": [],
   "source": [
    "with open('../datos/lista_opciones/01_tipo_propiedad.pkl', 'rb') as archivo:\n",
    "    tipo_propiedad = pickle.load(archivo)"
   ]
  },
  {
   "cell_type": "code",
   "execution_count": null,
   "metadata": {},
   "outputs": [
    {
     "data": {
      "text/plain": [
       "['chalet', 'countryHouse', 'duplex', 'flat', 'penthouse', 'studio']"
      ]
     },
     "execution_count": 147,
     "metadata": {},
     "output_type": "execute_result"
    }
   ],
   "source": [
    "tipo_propiedad"
   ]
  }
 ],
 "metadata": {
  "kernelspec": {
   "display_name": "Python 3",
   "language": "python",
   "name": "python3"
  },
  "language_info": {
   "codemirror_mode": {
    "name": "ipython",
    "version": 3
   },
   "file_extension": ".py",
   "mimetype": "text/x-python",
   "name": "python",
   "nbconvert_exporter": "python",
   "pygments_lexer": "ipython3",
   "version": "3.11.9"
  }
 },
 "nbformat": 4,
 "nbformat_minor": 2
}
