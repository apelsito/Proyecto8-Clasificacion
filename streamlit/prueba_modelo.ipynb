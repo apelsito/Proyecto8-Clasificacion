{
 "cells": [
  {
   "cell_type": "code",
   "execution_count": 126,
   "metadata": {},
   "outputs": [],
   "source": [
    "import pandas as pd\n",
    "import pickle\n",
    "import numpy as np\n",
    "import sys\n",
    "sys.path.append(\"../\")\n",
    "from src.soporte_transformers import (\n",
    "    load_models\n",
    ")"
   ]
  },
  {
   "cell_type": "code",
   "execution_count": 127,
   "metadata": {},
   "outputs": [
    {
     "data": {
      "text/html": [
       "<div>\n",
       "<style scoped>\n",
       "    .dataframe tbody tr th:only-of-type {\n",
       "        vertical-align: middle;\n",
       "    }\n",
       "\n",
       "    .dataframe tbody tr th {\n",
       "        vertical-align: top;\n",
       "    }\n",
       "\n",
       "    .dataframe thead th {\n",
       "        text-align: right;\n",
       "    }\n",
       "</style>\n",
       "<table border=\"1\" class=\"dataframe\">\n",
       "  <thead>\n",
       "    <tr style=\"text-align: right;\">\n",
       "      <th></th>\n",
       "      <th>size</th>\n",
       "      <th>bathrooms</th>\n",
       "      <th>municipality</th>\n",
       "      <th>district</th>\n",
       "      <th>distancia_centro</th>\n",
       "      <th>price</th>\n",
       "      <th>propertyType_chalet</th>\n",
       "      <th>propertyType_countryHouse</th>\n",
       "      <th>propertyType_duplex</th>\n",
       "      <th>propertyType_flat</th>\n",
       "      <th>...</th>\n",
       "      <th>floor_primero</th>\n",
       "      <th>floor_quinto</th>\n",
       "      <th>floor_segundo</th>\n",
       "      <th>floor_septimo</th>\n",
       "      <th>floor_sexto</th>\n",
       "      <th>floor_sotano</th>\n",
       "      <th>floor_tercero</th>\n",
       "      <th>hasLift_desconocido</th>\n",
       "      <th>hasLift_no tiene ascensor</th>\n",
       "      <th>hasLift_tiene ascensor</th>\n",
       "    </tr>\n",
       "  </thead>\n",
       "  <tbody>\n",
       "    <tr>\n",
       "      <th>78</th>\n",
       "      <td>-0.207407</td>\n",
       "      <td>0.0</td>\n",
       "      <td>0.619147</td>\n",
       "      <td>0.084038</td>\n",
       "      <td>0.046766</td>\n",
       "      <td>650.0</td>\n",
       "      <td>0.0</td>\n",
       "      <td>0.0</td>\n",
       "      <td>0.0</td>\n",
       "      <td>1.0</td>\n",
       "      <td>...</td>\n",
       "      <td>0.0</td>\n",
       "      <td>0.0</td>\n",
       "      <td>0.0</td>\n",
       "      <td>0.0</td>\n",
       "      <td>0.0</td>\n",
       "      <td>0.0</td>\n",
       "      <td>0.0</td>\n",
       "      <td>0.0</td>\n",
       "      <td>0.0</td>\n",
       "      <td>1.0</td>\n",
       "    </tr>\n",
       "  </tbody>\n",
       "</table>\n",
       "<p>1 rows × 34 columns</p>\n",
       "</div>"
      ],
      "text/plain": [
       "        size  bathrooms  municipality  district  distancia_centro  price  \\\n",
       "78 -0.207407        0.0      0.619147  0.084038          0.046766  650.0   \n",
       "\n",
       "    propertyType_chalet  propertyType_countryHouse  propertyType_duplex  \\\n",
       "78                  0.0                        0.0                  0.0   \n",
       "\n",
       "    propertyType_flat  ...  floor_primero  floor_quinto  floor_segundo  \\\n",
       "78                1.0  ...            0.0           0.0            0.0   \n",
       "\n",
       "    floor_septimo  floor_sexto  floor_sotano  floor_tercero  \\\n",
       "78            0.0          0.0           0.0            0.0   \n",
       "\n",
       "    hasLift_desconocido  hasLift_no tiene ascensor  hasLift_tiene ascensor  \n",
       "78                  0.0                        0.0                     1.0  \n",
       "\n",
       "[1 rows x 34 columns]"
      ]
     },
     "execution_count": 127,
     "metadata": {},
     "output_type": "execute_result"
    }
   ],
   "source": [
    "df = pd.read_csv(\"../datos/06_rent_outliers_gestionados.csv\")\n",
    "df.sample()"
   ]
  },
  {
   "cell_type": "markdown",
   "metadata": {},
   "source": [
    "# Creamos un dato nuevo\n",
    "- Para probar nuestras predicciones"
   ]
  },
  {
   "cell_type": "code",
   "execution_count": 128,
   "metadata": {},
   "outputs": [
    {
     "data": {
      "text/html": [
       "<div>\n",
       "<style scoped>\n",
       "    .dataframe tbody tr th:only-of-type {\n",
       "        vertical-align: middle;\n",
       "    }\n",
       "\n",
       "    .dataframe tbody tr th {\n",
       "        vertical-align: top;\n",
       "    }\n",
       "\n",
       "    .dataframe thead th {\n",
       "        text-align: right;\n",
       "    }\n",
       "</style>\n",
       "<table border=\"1\" class=\"dataframe\">\n",
       "  <thead>\n",
       "    <tr style=\"text-align: right;\">\n",
       "      <th></th>\n",
       "      <th>propertyType</th>\n",
       "      <th>size</th>\n",
       "      <th>rooms</th>\n",
       "      <th>bathrooms</th>\n",
       "      <th>floor</th>\n",
       "      <th>municipality</th>\n",
       "      <th>district</th>\n",
       "      <th>hasLift</th>\n",
       "      <th>distancia_centro</th>\n",
       "    </tr>\n",
       "  </thead>\n",
       "  <tbody>\n",
       "    <tr>\n",
       "      <th>0</th>\n",
       "      <td>flat</td>\n",
       "      <td>85</td>\n",
       "      <td>2 habitaciones</td>\n",
       "      <td>1 aseo</td>\n",
       "      <td>desconocido</td>\n",
       "      <td>Madrid</td>\n",
       "      <td>Puente de Vallecas</td>\n",
       "      <td>tiene ascensor</td>\n",
       "      <td>Entre 1 y 5 km</td>\n",
       "    </tr>\n",
       "  </tbody>\n",
       "</table>\n",
       "</div>"
      ],
      "text/plain": [
       "  propertyType  size           rooms bathrooms        floor municipality  \\\n",
       "0         flat    85  2 habitaciones    1 aseo  desconocido       Madrid   \n",
       "\n",
       "             district         hasLift distancia_centro  \n",
       "0  Puente de Vallecas  tiene ascensor   Entre 1 y 5 km  "
      ]
     },
     "execution_count": 128,
     "metadata": {},
     "output_type": "execute_result"
    }
   ],
   "source": [
    "# Datos de una nueva casa para predicción\n",
    "new_house = pd.DataFrame({\n",
    "    'propertyType': ['flat'],  # Nueva categoría no vista\n",
    "    'size': [85],\n",
    "    'rooms': [\"2 habitaciones\"],\n",
    "    'bathrooms': [\"1 aseo\"],\n",
    "    'floor': [\"desconocido\"],\n",
    "    'municipality': ['Madrid'],\n",
    "    'district': [\"Puente de Vallecas\"],\n",
    "    'hasLift' : 'tiene ascensor',\n",
    "    'distancia_centro' : 'Entre 1 y 5 km'\n",
    "})\n",
    "\n",
    "df_new = pd.DataFrame(new_house)\n",
    "df_new"
   ]
  },
  {
   "cell_type": "code",
   "execution_count": 129,
   "metadata": {},
   "outputs": [],
   "source": [
    "target_encoder, one_hot_encoder, robust_scaler, modelo_xgb =  load_models()"
   ]
  },
  {
   "cell_type": "code",
   "execution_count": 130,
   "metadata": {},
   "outputs": [
    {
     "data": {
      "text/html": [
       "<div>\n",
       "<style scoped>\n",
       "    .dataframe tbody tr th:only-of-type {\n",
       "        vertical-align: middle;\n",
       "    }\n",
       "\n",
       "    .dataframe tbody tr th {\n",
       "        vertical-align: top;\n",
       "    }\n",
       "\n",
       "    .dataframe thead th {\n",
       "        text-align: right;\n",
       "    }\n",
       "</style>\n",
       "<table border=\"1\" class=\"dataframe\">\n",
       "  <thead>\n",
       "    <tr style=\"text-align: right;\">\n",
       "      <th></th>\n",
       "      <th>propertyType</th>\n",
       "      <th>size</th>\n",
       "      <th>rooms</th>\n",
       "      <th>bathrooms</th>\n",
       "      <th>floor</th>\n",
       "      <th>municipality</th>\n",
       "      <th>district</th>\n",
       "      <th>hasLift</th>\n",
       "      <th>distancia_centro</th>\n",
       "    </tr>\n",
       "  </thead>\n",
       "  <tbody>\n",
       "    <tr>\n",
       "      <th>0</th>\n",
       "      <td>flat</td>\n",
       "      <td>85</td>\n",
       "      <td>2 habitaciones</td>\n",
       "      <td>1 aseo</td>\n",
       "      <td>desconocido</td>\n",
       "      <td>Madrid</td>\n",
       "      <td>Puente de Vallecas</td>\n",
       "      <td>tiene ascensor</td>\n",
       "      <td>Entre 1 y 5 km</td>\n",
       "    </tr>\n",
       "  </tbody>\n",
       "</table>\n",
       "</div>"
      ],
      "text/plain": [
       "  propertyType  size           rooms bathrooms        floor municipality  \\\n",
       "0         flat    85  2 habitaciones    1 aseo  desconocido       Madrid   \n",
       "\n",
       "             district         hasLift distancia_centro  \n",
       "0  Puente de Vallecas  tiene ascensor   Entre 1 y 5 km  "
      ]
     },
     "execution_count": 130,
     "metadata": {},
     "output_type": "execute_result"
    }
   ],
   "source": [
    "df_pred = df_new.copy()\n",
    "df_pred"
   ]
  },
  {
   "cell_type": "markdown",
   "metadata": {},
   "source": [
    "# Separar las columnas por el tipo de encoding que necesitan"
   ]
  },
  {
   "cell_type": "code",
   "execution_count": 131,
   "metadata": {},
   "outputs": [],
   "source": [
    "cols_target = [\"bathrooms\",\"municipality\",\"district\",\"distancia_centro\"]\n",
    "cols_onehot = [\"propertyType\",\"rooms\",\"floor\",\"hasLift\"]"
   ]
  },
  {
   "cell_type": "markdown",
   "metadata": {},
   "source": [
    "### Hacer one_hot_encoder"
   ]
  },
  {
   "cell_type": "code",
   "execution_count": 132,
   "metadata": {},
   "outputs": [
    {
     "data": {
      "text/html": [
       "<div>\n",
       "<style scoped>\n",
       "    .dataframe tbody tr th:only-of-type {\n",
       "        vertical-align: middle;\n",
       "    }\n",
       "\n",
       "    .dataframe tbody tr th {\n",
       "        vertical-align: top;\n",
       "    }\n",
       "\n",
       "    .dataframe thead th {\n",
       "        text-align: right;\n",
       "    }\n",
       "</style>\n",
       "<table border=\"1\" class=\"dataframe\">\n",
       "  <thead>\n",
       "    <tr style=\"text-align: right;\">\n",
       "      <th></th>\n",
       "      <th>propertyType_chalet</th>\n",
       "      <th>propertyType_countryHouse</th>\n",
       "      <th>propertyType_duplex</th>\n",
       "      <th>propertyType_flat</th>\n",
       "      <th>propertyType_penthouse</th>\n",
       "      <th>propertyType_studio</th>\n",
       "      <th>rooms_1 habitacion</th>\n",
       "      <th>rooms_2 habitaciones</th>\n",
       "      <th>rooms_3 habitaciones</th>\n",
       "      <th>rooms_4 habitaciones</th>\n",
       "      <th>...</th>\n",
       "      <th>floor_primero</th>\n",
       "      <th>floor_quinto</th>\n",
       "      <th>floor_segundo</th>\n",
       "      <th>floor_septimo</th>\n",
       "      <th>floor_sexto</th>\n",
       "      <th>floor_sotano</th>\n",
       "      <th>floor_tercero</th>\n",
       "      <th>hasLift_desconocido</th>\n",
       "      <th>hasLift_no tiene ascensor</th>\n",
       "      <th>hasLift_tiene ascensor</th>\n",
       "    </tr>\n",
       "  </thead>\n",
       "  <tbody>\n",
       "    <tr>\n",
       "      <th>0</th>\n",
       "      <td>0.0</td>\n",
       "      <td>0.0</td>\n",
       "      <td>0.0</td>\n",
       "      <td>1.0</td>\n",
       "      <td>0.0</td>\n",
       "      <td>0.0</td>\n",
       "      <td>0.0</td>\n",
       "      <td>1.0</td>\n",
       "      <td>0.0</td>\n",
       "      <td>0.0</td>\n",
       "      <td>...</td>\n",
       "      <td>0.0</td>\n",
       "      <td>0.0</td>\n",
       "      <td>0.0</td>\n",
       "      <td>0.0</td>\n",
       "      <td>0.0</td>\n",
       "      <td>0.0</td>\n",
       "      <td>0.0</td>\n",
       "      <td>0.0</td>\n",
       "      <td>0.0</td>\n",
       "      <td>1.0</td>\n",
       "    </tr>\n",
       "  </tbody>\n",
       "</table>\n",
       "<p>1 rows × 28 columns</p>\n",
       "</div>"
      ],
      "text/plain": [
       "   propertyType_chalet  propertyType_countryHouse  propertyType_duplex  \\\n",
       "0                  0.0                        0.0                  0.0   \n",
       "\n",
       "   propertyType_flat  propertyType_penthouse  propertyType_studio  \\\n",
       "0                1.0                     0.0                  0.0   \n",
       "\n",
       "   rooms_1 habitacion  rooms_2 habitaciones  rooms_3 habitaciones  \\\n",
       "0                 0.0                   1.0                   0.0   \n",
       "\n",
       "   rooms_4 habitaciones  ...  floor_primero  floor_quinto  floor_segundo  \\\n",
       "0                   0.0  ...            0.0           0.0            0.0   \n",
       "\n",
       "   floor_septimo  floor_sexto  floor_sotano  floor_tercero  \\\n",
       "0            0.0          0.0           0.0            0.0   \n",
       "\n",
       "   hasLift_desconocido  hasLift_no tiene ascensor  hasLift_tiene ascensor  \n",
       "0                  0.0                        0.0                     1.0  \n",
       "\n",
       "[1 rows x 28 columns]"
      ]
     },
     "execution_count": 132,
     "metadata": {},
     "output_type": "execute_result"
    }
   ],
   "source": [
    "test = one_hot_encoder.transform(df_pred[cols_onehot])\n",
    "# Obtenemos los nombres de las columnas del codificador\n",
    "column_names = one_hot_encoder.get_feature_names_out(cols_onehot)\n",
    "# Convertimos a un DataFrame\n",
    "onehot_df = pd.DataFrame(test.toarray(), columns=column_names)\n",
    "onehot_df"
   ]
  },
  {
   "cell_type": "markdown",
   "metadata": {},
   "source": [
    "### Hacer target_encoder"
   ]
  },
  {
   "cell_type": "code",
   "execution_count": 133,
   "metadata": {},
   "outputs": [
    {
     "data": {
      "text/html": [
       "<div>\n",
       "<style scoped>\n",
       "    .dataframe tbody tr th:only-of-type {\n",
       "        vertical-align: middle;\n",
       "    }\n",
       "\n",
       "    .dataframe tbody tr th {\n",
       "        vertical-align: top;\n",
       "    }\n",
       "\n",
       "    .dataframe thead th {\n",
       "        text-align: right;\n",
       "    }\n",
       "</style>\n",
       "<table border=\"1\" class=\"dataframe\">\n",
       "  <thead>\n",
       "    <tr style=\"text-align: right;\">\n",
       "      <th></th>\n",
       "      <th>propertyType</th>\n",
       "      <th>size</th>\n",
       "      <th>rooms</th>\n",
       "      <th>bathrooms</th>\n",
       "      <th>floor</th>\n",
       "      <th>municipality</th>\n",
       "      <th>district</th>\n",
       "      <th>hasLift</th>\n",
       "      <th>distancia_centro</th>\n",
       "      <th>precio</th>\n",
       "    </tr>\n",
       "  </thead>\n",
       "  <tbody>\n",
       "    <tr>\n",
       "      <th>0</th>\n",
       "      <td>flat</td>\n",
       "      <td>85</td>\n",
       "      <td>2 habitaciones</td>\n",
       "      <td>677.756303</td>\n",
       "      <td>desconocido</td>\n",
       "      <td>705.594108</td>\n",
       "      <td>684.0437</td>\n",
       "      <td>tiene ascensor</td>\n",
       "      <td>701.110187</td>\n",
       "      <td>NaN</td>\n",
       "    </tr>\n",
       "  </tbody>\n",
       "</table>\n",
       "</div>"
      ],
      "text/plain": [
       "  propertyType  size           rooms   bathrooms        floor  municipality  \\\n",
       "0         flat    85  2 habitaciones  677.756303  desconocido    705.594108   \n",
       "\n",
       "   district         hasLift  distancia_centro  precio  \n",
       "0  684.0437  tiene ascensor        701.110187     NaN  "
      ]
     },
     "execution_count": 133,
     "metadata": {},
     "output_type": "execute_result"
    }
   ],
   "source": [
    "df_pred[\"precio\"] = np.nan\n",
    "df_pred = target_encoder.transform(df_pred)\n",
    "df_pred"
   ]
  },
  {
   "cell_type": "markdown",
   "metadata": {},
   "source": [
    "### Eliminar las columnas de onehot y unir el df que habíamos generado previamente"
   ]
  },
  {
   "cell_type": "code",
   "execution_count": 134,
   "metadata": {},
   "outputs": [
    {
     "data": {
      "text/html": [
       "<div>\n",
       "<style scoped>\n",
       "    .dataframe tbody tr th:only-of-type {\n",
       "        vertical-align: middle;\n",
       "    }\n",
       "\n",
       "    .dataframe tbody tr th {\n",
       "        vertical-align: top;\n",
       "    }\n",
       "\n",
       "    .dataframe thead th {\n",
       "        text-align: right;\n",
       "    }\n",
       "</style>\n",
       "<table border=\"1\" class=\"dataframe\">\n",
       "  <thead>\n",
       "    <tr style=\"text-align: right;\">\n",
       "      <th></th>\n",
       "      <th>size</th>\n",
       "      <th>bathrooms</th>\n",
       "      <th>municipality</th>\n",
       "      <th>district</th>\n",
       "      <th>distancia_centro</th>\n",
       "      <th>precio</th>\n",
       "      <th>propertyType_chalet</th>\n",
       "      <th>propertyType_countryHouse</th>\n",
       "      <th>propertyType_duplex</th>\n",
       "      <th>propertyType_flat</th>\n",
       "      <th>...</th>\n",
       "      <th>floor_primero</th>\n",
       "      <th>floor_quinto</th>\n",
       "      <th>floor_segundo</th>\n",
       "      <th>floor_septimo</th>\n",
       "      <th>floor_sexto</th>\n",
       "      <th>floor_sotano</th>\n",
       "      <th>floor_tercero</th>\n",
       "      <th>hasLift_desconocido</th>\n",
       "      <th>hasLift_no tiene ascensor</th>\n",
       "      <th>hasLift_tiene ascensor</th>\n",
       "    </tr>\n",
       "  </thead>\n",
       "  <tbody>\n",
       "    <tr>\n",
       "      <th>0</th>\n",
       "      <td>85</td>\n",
       "      <td>677.756303</td>\n",
       "      <td>705.594108</td>\n",
       "      <td>684.0437</td>\n",
       "      <td>701.110187</td>\n",
       "      <td>NaN</td>\n",
       "      <td>0.0</td>\n",
       "      <td>0.0</td>\n",
       "      <td>0.0</td>\n",
       "      <td>1.0</td>\n",
       "      <td>...</td>\n",
       "      <td>0.0</td>\n",
       "      <td>0.0</td>\n",
       "      <td>0.0</td>\n",
       "      <td>0.0</td>\n",
       "      <td>0.0</td>\n",
       "      <td>0.0</td>\n",
       "      <td>0.0</td>\n",
       "      <td>0.0</td>\n",
       "      <td>0.0</td>\n",
       "      <td>1.0</td>\n",
       "    </tr>\n",
       "  </tbody>\n",
       "</table>\n",
       "<p>1 rows × 34 columns</p>\n",
       "</div>"
      ],
      "text/plain": [
       "   size   bathrooms  municipality  district  distancia_centro  precio  \\\n",
       "0    85  677.756303    705.594108  684.0437        701.110187     NaN   \n",
       "\n",
       "   propertyType_chalet  propertyType_countryHouse  propertyType_duplex  \\\n",
       "0                  0.0                        0.0                  0.0   \n",
       "\n",
       "   propertyType_flat  ...  floor_primero  floor_quinto  floor_segundo  \\\n",
       "0                1.0  ...            0.0           0.0            0.0   \n",
       "\n",
       "   floor_septimo  floor_sexto  floor_sotano  floor_tercero  \\\n",
       "0            0.0          0.0           0.0            0.0   \n",
       "\n",
       "   hasLift_desconocido  hasLift_no tiene ascensor  hasLift_tiene ascensor  \n",
       "0                  0.0                        0.0                     1.0  \n",
       "\n",
       "[1 rows x 34 columns]"
      ]
     },
     "execution_count": 134,
     "metadata": {},
     "output_type": "execute_result"
    }
   ],
   "source": [
    "df_pred.drop(columns= cols_onehot,inplace=True)\n",
    "df_pred = pd.concat([df_pred, onehot_df], axis=1)\n",
    "df_pred"
   ]
  },
  {
   "cell_type": "markdown",
   "metadata": {},
   "source": [
    "# Feature- Scaling"
   ]
  },
  {
   "cell_type": "code",
   "execution_count": 135,
   "metadata": {},
   "outputs": [],
   "source": [
    "cols_escalar = [\"size\",\"bathrooms\",\"municipality\",\"district\",\"distancia_centro\"]\n"
   ]
  },
  {
   "cell_type": "code",
   "execution_count": 136,
   "metadata": {},
   "outputs": [],
   "source": [
    "df_pred[cols_escalar] = robust_scaler.transform(df_pred[cols_escalar])"
   ]
  },
  {
   "cell_type": "code",
   "execution_count": 137,
   "metadata": {},
   "outputs": [
    {
     "data": {
      "text/html": [
       "<div>\n",
       "<style scoped>\n",
       "    .dataframe tbody tr th:only-of-type {\n",
       "        vertical-align: middle;\n",
       "    }\n",
       "\n",
       "    .dataframe tbody tr th {\n",
       "        vertical-align: top;\n",
       "    }\n",
       "\n",
       "    .dataframe thead th {\n",
       "        text-align: right;\n",
       "    }\n",
       "</style>\n",
       "<table border=\"1\" class=\"dataframe\">\n",
       "  <thead>\n",
       "    <tr style=\"text-align: right;\">\n",
       "      <th></th>\n",
       "      <th>size</th>\n",
       "      <th>bathrooms</th>\n",
       "      <th>municipality</th>\n",
       "      <th>district</th>\n",
       "      <th>distancia_centro</th>\n",
       "      <th>precio</th>\n",
       "      <th>propertyType_chalet</th>\n",
       "      <th>propertyType_countryHouse</th>\n",
       "      <th>propertyType_duplex</th>\n",
       "      <th>propertyType_flat</th>\n",
       "      <th>...</th>\n",
       "      <th>floor_primero</th>\n",
       "      <th>floor_quinto</th>\n",
       "      <th>floor_segundo</th>\n",
       "      <th>floor_septimo</th>\n",
       "      <th>floor_sexto</th>\n",
       "      <th>floor_sotano</th>\n",
       "      <th>floor_tercero</th>\n",
       "      <th>hasLift_desconocido</th>\n",
       "      <th>hasLift_no tiene ascensor</th>\n",
       "      <th>hasLift_tiene ascensor</th>\n",
       "    </tr>\n",
       "  </thead>\n",
       "  <tbody>\n",
       "    <tr>\n",
       "      <th>0</th>\n",
       "      <td>0.681481</td>\n",
       "      <td>0.0</td>\n",
       "      <td>0.619147</td>\n",
       "      <td>0.15483</td>\n",
       "      <td>0.020011</td>\n",
       "      <td>NaN</td>\n",
       "      <td>0.0</td>\n",
       "      <td>0.0</td>\n",
       "      <td>0.0</td>\n",
       "      <td>1.0</td>\n",
       "      <td>...</td>\n",
       "      <td>0.0</td>\n",
       "      <td>0.0</td>\n",
       "      <td>0.0</td>\n",
       "      <td>0.0</td>\n",
       "      <td>0.0</td>\n",
       "      <td>0.0</td>\n",
       "      <td>0.0</td>\n",
       "      <td>0.0</td>\n",
       "      <td>0.0</td>\n",
       "      <td>1.0</td>\n",
       "    </tr>\n",
       "  </tbody>\n",
       "</table>\n",
       "<p>1 rows × 34 columns</p>\n",
       "</div>"
      ],
      "text/plain": [
       "       size  bathrooms  municipality  district  distancia_centro  precio  \\\n",
       "0  0.681481        0.0      0.619147   0.15483          0.020011     NaN   \n",
       "\n",
       "   propertyType_chalet  propertyType_countryHouse  propertyType_duplex  \\\n",
       "0                  0.0                        0.0                  0.0   \n",
       "\n",
       "   propertyType_flat  ...  floor_primero  floor_quinto  floor_segundo  \\\n",
       "0                1.0  ...            0.0           0.0            0.0   \n",
       "\n",
       "   floor_septimo  floor_sexto  floor_sotano  floor_tercero  \\\n",
       "0            0.0          0.0           0.0            0.0   \n",
       "\n",
       "   hasLift_desconocido  hasLift_no tiene ascensor  hasLift_tiene ascensor  \n",
       "0                  0.0                        0.0                     1.0  \n",
       "\n",
       "[1 rows x 34 columns]"
      ]
     },
     "execution_count": 137,
     "metadata": {},
     "output_type": "execute_result"
    }
   ],
   "source": [
    "df_pred"
   ]
  },
  {
   "cell_type": "code",
   "execution_count": 138,
   "metadata": {},
   "outputs": [
    {
     "data": {
      "text/plain": [
       "array([718.37396], dtype=float32)"
      ]
     },
     "execution_count": 138,
     "metadata": {},
     "output_type": "execute_result"
    }
   ],
   "source": [
    "df_pred.drop(columns=\"precio\",inplace=True)\n",
    "modelo_xgb.predict(df_pred)"
   ]
  },
  {
   "cell_type": "code",
   "execution_count": 139,
   "metadata": {},
   "outputs": [
    {
     "data": {
      "text/plain": [
       "array([718.37396], dtype=float32)"
      ]
     },
     "execution_count": 139,
     "metadata": {},
     "output_type": "execute_result"
    }
   ],
   "source": [
    "target_encoder, one_hot_encoder, robust_scaler, modelo_xgb =  load_models()\n",
    "\n",
    "cols_target = [\"bathrooms\",\"municipality\",\"district\",\"distancia_centro\"]\n",
    "cols_onehot = [\"propertyType\",\"rooms\",\"floor\",\"hasLift\"]\n",
    "cols_escalar = [\"size\",\"bathrooms\",\"municipality\",\"district\",\"distancia_centro\"]\n",
    "\n",
    "# Datos de una nueva casa para predicción\n",
    "new_house = pd.DataFrame({\n",
    "    'propertyType': ['flat'],  # Nueva categoría no vista\n",
    "    'size': [85],\n",
    "    'rooms': [\"2 habitaciones\"],\n",
    "    'bathrooms': [\"1 aseo\"],\n",
    "    'floor': [\"desconocido\"],\n",
    "    'municipality': ['Madrid'],\n",
    "    'district': [\"Puente de Vallecas\"],\n",
    "    'hasLift' : 'tiene ascensor',\n",
    "    'distancia_centro' : 'Entre 1 y 5 km'\n",
    "})\n",
    "\n",
    "df_new = pd.DataFrame(new_house)\n",
    "df_pred = df_new.copy()\n",
    "\n",
    "# Hacemos el OneHot Encoder\n",
    "onehot = one_hot_encoder.transform(df_pred[cols_onehot])\n",
    "# Obtenemos los nombres de las columnas del codificador\n",
    "column_names = one_hot_encoder.get_feature_names_out(cols_onehot)\n",
    "# Convertimos a un DataFrame\n",
    "onehot_df = pd.DataFrame(onehot.toarray(), columns=column_names)\n",
    "\n",
    "# Realizamos el target encoder\n",
    "df_pred[\"precio\"] = np.nan\n",
    "df_pred = target_encoder.transform(df_pred)\n",
    "\n",
    "# Quitamos las columnas que ya han sido onehoteadas \n",
    "df_pred.drop(columns= cols_onehot,inplace=True)\n",
    "df_pred = pd.concat([df_pred, onehot_df], axis=1)\n",
    "\n",
    "# Escalamos los valores\n",
    "df_pred[cols_escalar] = robust_scaler.transform(df_pred[cols_escalar])\n",
    "\n",
    "# Realizamos la predicción\n",
    "df_pred.drop(columns=\"precio\",inplace=True)\n",
    "modelo_xgb.predict(df_pred)"
   ]
  },
  {
   "cell_type": "markdown",
   "metadata": {},
   "source": [
    "# Funciona!\n"
   ]
  },
  {
   "cell_type": "markdown",
   "metadata": {},
   "source": [
    "# Ver si puedo guardar listas en pkl\n"
   ]
  },
  {
   "cell_type": "code",
   "execution_count": 140,
   "metadata": {},
   "outputs": [],
   "source": [
    "df = pd.read_csv(\"../datos/03_api_rent_sin_nulos.csv\")"
   ]
  },
  {
   "cell_type": "code",
   "execution_count": 141,
   "metadata": {},
   "outputs": [
    {
     "data": {
      "text/html": [
       "<div>\n",
       "<style scoped>\n",
       "    .dataframe tbody tr th:only-of-type {\n",
       "        vertical-align: middle;\n",
       "    }\n",
       "\n",
       "    .dataframe tbody tr th {\n",
       "        vertical-align: top;\n",
       "    }\n",
       "\n",
       "    .dataframe thead th {\n",
       "        text-align: right;\n",
       "    }\n",
       "</style>\n",
       "<table border=\"1\" class=\"dataframe\">\n",
       "  <thead>\n",
       "    <tr style=\"text-align: right;\">\n",
       "      <th></th>\n",
       "      <th>propertyType</th>\n",
       "      <th>price</th>\n",
       "      <th>size</th>\n",
       "      <th>rooms</th>\n",
       "      <th>bathrooms</th>\n",
       "      <th>floor</th>\n",
       "      <th>district</th>\n",
       "      <th>municipality</th>\n",
       "      <th>hasLift</th>\n",
       "      <th>distancia_centro</th>\n",
       "    </tr>\n",
       "  </thead>\n",
       "  <tbody>\n",
       "    <tr>\n",
       "      <th>290</th>\n",
       "      <td>flat</td>\n",
       "      <td>730.0</td>\n",
       "      <td>35.0</td>\n",
       "      <td>1 habitacion</td>\n",
       "      <td>1 aseo</td>\n",
       "      <td>segundo</td>\n",
       "      <td>Centro</td>\n",
       "      <td>Madrid</td>\n",
       "      <td>tiene ascensor</td>\n",
       "      <td>Menos de 1 km</td>\n",
       "    </tr>\n",
       "  </tbody>\n",
       "</table>\n",
       "</div>"
      ],
      "text/plain": [
       "    propertyType  price  size         rooms bathrooms    floor district  \\\n",
       "290         flat  730.0  35.0  1 habitacion    1 aseo  segundo   Centro   \n",
       "\n",
       "    municipality         hasLift distancia_centro  \n",
       "290       Madrid  tiene ascensor    Menos de 1 km  "
      ]
     },
     "execution_count": 141,
     "metadata": {},
     "output_type": "execute_result"
    }
   ],
   "source": [
    "df.sample()"
   ]
  },
  {
   "cell_type": "code",
   "execution_count": 142,
   "metadata": {},
   "outputs": [],
   "source": [
    "lista_tipo_propiedad = df[\"propertyType\"].unique().tolist()\n",
    "lista_habitaciones = df[\"rooms\"].unique().tolist()\n",
    "lista_aseos = df[\"bathrooms\"].unique().tolist()\n",
    "lista_floor = df[\"floor\"].unique().tolist()\n",
    "lista_municipality = df[\"municipality\"].unique().tolist()\n",
    "lista_district = df[\"district\"].unique().tolist()\n",
    "lista_ascensor = df[\"hasLift\"].unique().tolist()\n",
    "lista_distancia = df[\"distancia_centro\"].unique().tolist()\n"
   ]
  },
  {
   "cell_type": "code",
   "execution_count": 143,
   "metadata": {},
   "outputs": [],
   "source": [
    "lista_distancia = ['Menos de 1 km', 'Entre 1 y 5 km', 'Entre 5 y 10 km', 'Entre 10 y 20 km', 'Entre 20 y 30 km', 'Entre 30 y 40 km', 'Entre 40 y 50 km', 'Mas de 50 km']"
   ]
  },
  {
   "cell_type": "code",
   "execution_count": 144,
   "metadata": {},
   "outputs": [],
   "source": [
    "lista_floor = ['sotano',\"bajo\",\"entreplanta\",'primero',\"segundo\",\"tercero\",\"cuarto\",\"quinto\",\"sexto\",\"septimo\",\"octavo\",\"decimo cuarto\",\"desconocido\"]"
   ]
  },
  {
   "cell_type": "markdown",
   "metadata": {},
   "source": [
    "### Guardarlos en un pickle"
   ]
  },
  {
   "cell_type": "code",
   "execution_count": 145,
   "metadata": {},
   "outputs": [],
   "source": [
    "with open('../datos/lista_opciones/01_tipo_propiedad.pkl', 'wb') as archivo:\n",
    "    pickle.dump(sorted(lista_tipo_propiedad), archivo)\n",
    "with open('../datos/lista_opciones/02_num_habitaciones.pkl', 'wb') as archivo:\n",
    "    pickle.dump(sorted(lista_habitaciones), archivo)\n",
    "with open('../datos/lista_opciones/03_num_aseos.pkl', 'wb') as archivo:\n",
    "    pickle.dump(sorted(lista_aseos), archivo)\n",
    "with open('../datos/lista_opciones/04_floor.pkl', 'wb') as archivo:\n",
    "    pickle.dump(lista_floor, archivo)\n",
    "with open('../datos/lista_opciones/05_municipio.pkl', 'wb') as archivo:\n",
    "    pickle.dump(sorted(lista_municipality), archivo)\n",
    "with open('../datos/lista_opciones/06_distrito.pkl', 'wb') as archivo:\n",
    "    pickle.dump(sorted(lista_district), archivo)\n",
    "with open('../datos/lista_opciones/07_ascensor.pkl', 'wb') as archivo:\n",
    "    pickle.dump(sorted(lista_ascensor), archivo)\n",
    "with open('../datos/lista_opciones/08_distancia_centro.pkl', 'wb') as archivo:\n",
    "    pickle.dump(lista_distancia, archivo)"
   ]
  },
  {
   "cell_type": "code",
   "execution_count": 146,
   "metadata": {},
   "outputs": [],
   "source": [
    "with open('../datos/lista_opciones/01_tipo_propiedad.pkl', 'rb') as archivo:\n",
    "    tipo_propiedad = pickle.load(archivo)"
   ]
  },
  {
   "cell_type": "code",
   "execution_count": 147,
   "metadata": {},
   "outputs": [
    {
     "data": {
      "text/plain": [
       "['chalet', 'countryHouse', 'duplex', 'flat', 'penthouse', 'studio']"
      ]
     },
     "execution_count": 147,
     "metadata": {},
     "output_type": "execute_result"
    }
   ],
   "source": [
    "tipo_propiedad"
   ]
  }
 ],
 "metadata": {
  "kernelspec": {
   "display_name": "Python 3",
   "language": "python",
   "name": "python3"
  },
  "language_info": {
   "codemirror_mode": {
    "name": "ipython",
    "version": 3
   },
   "file_extension": ".py",
   "mimetype": "text/x-python",
   "name": "python",
   "nbconvert_exporter": "python",
   "pygments_lexer": "ipython3",
   "version": "3.11.9"
  }
 },
 "nbformat": 4,
 "nbformat_minor": 2
}
